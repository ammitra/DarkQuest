{
 "cells": [
  {
   "cell_type": "markdown",
   "metadata": {},
   "source": [
    "# imports"
   ]
  },
  {
   "cell_type": "code",
   "execution_count": 1,
   "metadata": {
    "ExecuteTime": {
     "end_time": "2021-02-08T14:27:19.517983Z",
     "start_time": "2021-02-08T14:27:08.815247Z"
    }
   },
   "outputs": [],
   "source": [
    "import uproot4\n",
    "import uproot\n",
    "import awkward1 as ak\n",
    "import numpy as np\n",
    "import matplotlib.pyplot as plt\n",
    "from matplotlib import cm\n",
    "from matplotlib.ticker import LinearLocator, FormatStrFormatter\n",
    "from matplotlib import rcParams\n",
    "from mpl_toolkits.mplot3d import Axes3D  # noqa: F401 unused import                                                                                                                  \n",
    "import mplhep as hep\n",
    "import os,sys\n",
    "import pandas as pd\n",
    "from scipy.stats import halfnorm\n",
    "from coffea import hist"
   ]
  },
  {
   "cell_type": "markdown",
   "metadata": {},
   "source": [
    "# file I/O"
   ]
  },
  {
   "cell_type": "code",
   "execution_count": 2,
   "metadata": {
    "ExecuteTime": {
     "end_time": "2021-02-08T14:27:33.770354Z",
     "start_time": "2021-02-08T14:27:33.419234Z"
    }
   },
   "outputs": [],
   "source": [
    "# sim data\n",
    "\n",
    "Brem003 = \"../electrons/sim_eval_Brem_0.033428_z500_600_eps_-5.2.root\"\n",
    "truth003 = uproot.open(Brem003)[\"Truth\"]\n",
    "\n",
    "Brem047 = \"../electrons/sim_eval_Brem_0.470915_z500_600_eps_-6.root\"\n",
    "truth047 = uproot.open(Brem047)[\"Truth\"]\n",
    "\n",
    "Eta001 = \"../electrons/sim_eval_Eta_0.019564_z500_600_eps_-5.2.root\"\n",
    "truth001 = uproot.open(Eta001)[\"Truth\"]\n",
    "\n",
    "Eta054 = \"../electrons/sim_eval_Eta_0.540000_z500_600_eps_-6.root\"\n",
    "truth054 = uproot.open(Eta054)[\"Truth\"]"
   ]
  },
  {
   "cell_type": "markdown",
   "metadata": {},
   "source": [
    "# testing"
   ]
  },
  {
   "cell_type": "markdown",
   "metadata": {},
   "source": [
    "## sim data"
   ]
  },
  {
   "cell_type": "code",
   "execution_count": 3,
   "metadata": {
    "ExecuteTime": {
     "end_time": "2021-02-08T14:27:38.781161Z",
     "start_time": "2021-02-08T14:27:38.768348Z"
    }
   },
   "outputs": [],
   "source": [
    "def get_data_sim(root1):\n",
    "    \n",
    "    (root1.array(\"hit_detID\").flatten() >= 1).any()\n",
    "    masks1 = {}\n",
    "    \n",
    "    # mask by hit detID\n",
    "    detID1 = root1.array(\"hit_detID\").flatten()\n",
    "    \n",
    "    # mask by z pos of detector\n",
    "    truthz1 = root1.array(\"hit_truthz\").flatten()\n",
    "    \n",
    "    # hodos\n",
    "    masks1[\"H1BT\"] = np.logical_and(detID1 >= 31, detID1 <= 32)\n",
    "    masks1[\"H2BT\"] = np.logical_and(detID1 >= 37, detID1 <= 38)\n",
    "    masks1[\"H4BT\"] = np.logical_and(detID1 >= 45, detID1 <= 46)\n",
    "    masks1[\"H1LR\"] = np.logical_and(detID1 >= 33, detID1 <= 34)\n",
    "    masks1[\"H2LR\"] = np.logical_and(detID1 >= 35, detID1 <= 36)\n",
    "    masks1[\"H4Y1LR\"] = np.logical_and(detID1 >= 41, detID1 <= 42)\n",
    "    masks1[\"H4Y2LR\"] = np.logical_and(detID1 >= 43, detID1 <= 44)\n",
    "    \n",
    "    # stations\n",
    "    masks1[\"st1\"] = np.logical_and(truthz1 > 500, truthz1 < 1000)\n",
    "    masks1[\"st2\"] = np.logical_and(truthz1 > 1200, truthz1 < 1600)\n",
    "    masks1[\"st4\"] = truthz1 > 2000\n",
    "    \n",
    "    det_st = [('H1BT', 'st1'),\n",
    "              ('H2BT', 'st2'),\n",
    "              ('H4BT', 'st4'),\n",
    "              ('H1LR', 'st1'),\n",
    "              ('H2LR', 'st2'),\n",
    "              ('H4Y1LR', 'st4'),\n",
    "              ('H4Y2LR', 'st4')]\n",
    "    \n",
    "    # geometry, can safely ignore z pos for now\n",
    "    vs = [(\"xy\",\"hit_truthy:hit_truthx\",\"x [cm];y [cm]\"),\n",
    "          (\"z\",\"hit_truthz\",\"z [cm]\"),]\n",
    "    \n",
    "    xs = []\n",
    "    \n",
    "    # now implement all the masks, plotting each of the variables in det_pairs\n",
    "    for det, st in det_st:\n",
    "        for vshort, var, vtitle in vs:\n",
    "            mask1 = np.logical_and(masks1[det],masks1[st])\n",
    "            \n",
    "            ivars1 = [root1.array(v).flatten() for v in var.split(\":\")]\n",
    "            ilabs = vtitle.split(';')\n",
    "\n",
    "            if (len(ivars1)>1):\n",
    "                # stacking the data\n",
    "                if (det[-1]=='T'):\n",
    "                    x = ivars1[0][mask1]\n",
    "                else:\n",
    "                    x = ivars1[1][mask1]\n",
    "                    \n",
    "                xs.append(x)\n",
    "                \n",
    "    return xs"
   ]
  },
  {
   "cell_type": "markdown",
   "metadata": {},
   "source": [
    "## cut data"
   ]
  },
  {
   "cell_type": "markdown",
   "metadata": {},
   "source": [
    "Impose cuts on the data to determine hit correlation. This means:\n",
    "\n",
    "* Require that an event has at least one hit within some x-range in H_BT\n",
    "* If the event meets the selection criteria, it is flagged as valid \n",
    "\n",
    "These cuts can be chained together, such that you can require hits in three detectors before the event is considered valid. \n",
    "\n",
    "The `make_cut` method searches a given event for valid hits in a certain x-range within the desired station (1,2, or 4).\n",
    "\n",
    "The `get_cut` method imposes the cuts when trying to get the data. It works by looping through all 10,000 events in the simulated data and getting the indices of each valid event meeting the passed criteria using `make_cut`. If multiple detectors are used to produce the cut (i.e. require hits in `x = [-15, 15cm]` in `H1B/T` and hits in `x = [-5, 5cm]` in `H2BT`), then the algorithm loops over all 10,000 events looking for events meeting station 1 criteria before looping over only those valid events to look for events which then *also* satisfy the station 2 criteria. \n",
    "\n",
    "**Something in one of/both of these methods is bugged** - see plots @ bottom"
   ]
  },
  {
   "cell_type": "code",
   "execution_count": 4,
   "metadata": {
    "ExecuteTime": {
     "end_time": "2021-02-08T14:27:45.903009Z",
     "start_time": "2021-02-08T14:27:45.893357Z"
    }
   },
   "outputs": [],
   "source": [
    "def make_cut(branches, event, station=1, pos1=-15, pos2=15):\n",
    "    '''\n",
    "    pass a dict of the branches of the ROOT file, and event number \n",
    "    make a cut at a given station and x-range (inclusive) for a single event\n",
    "    returns True or False if the event meets selection criteria\n",
    "    '''\n",
    "    flag = False\n",
    "    \n",
    "    detIDs = branches['hit_detID'][event]     # detID of each hit in the event\n",
    "    truthz = branches['hit_truthz'][event]    # z-pos of each hit in the event\n",
    "    truthx = branches['hit_truthx'][event]    # x-pos of each hit in the event\n",
    "    validx = np.logical_and(truthx >= pos1, truthx <= pos2)  # valid x-pos given range\n",
    "    \n",
    "    if (station==1):   # H1BT\n",
    "        det = np.logical_and(detIDs >= 31, detIDs <= 32)   # mask by detID of H1BT\n",
    "        st1 = np.logical_and(truthz > 500, truthz < 1000)  # mask by st1 z-pos criteria\n",
    "        \n",
    "        # intersection of the two (det & st) for this event\n",
    "        det_st_mask = np.logical_and(det,st1)\n",
    "        \n",
    "        # now we look at all of the truthx hits, and see if any x-hits meet the criteria\n",
    "        final_mask = np.logical_and(det_st_mask,validx)\n",
    "\n",
    "        # check the truthx array for valid hits\n",
    "        if (len(truthx[final_mask]) != 0):\n",
    "            flag = True\n",
    "            \n",
    "    if (station==2):   # H2BT\n",
    "        det = np.logical_and(detIDs >= 37, detIDs <= 38)\n",
    "        st2 = np.logical_and(truthz > 1200, truthz < 1600)\n",
    "        det_st_mask = np.logical_and(det,st2)\n",
    "        final_mask = np.logical_and(det_st_mask,validx)\n",
    "        if (len(truthx[final_mask]) != 0):\n",
    "            flag = True\n",
    "            \n",
    "    if (station==4):   # H4BT\n",
    "        det = np.logical_and(detIDs >= 45, detIDs <= 46)\n",
    "        st4 = (truthz > 2000)\n",
    "        det_st_mask = np.logical_and(det,st4)\n",
    "        final_mask = np.logical_and(det_st_mask,validx)\n",
    "        if (len(truthx[final_mask]) != 0):\n",
    "            flag = True\n",
    "    \n",
    "    return flag"
   ]
  },
  {
   "cell_type": "code",
   "execution_count": 5,
   "metadata": {
    "ExecuteTime": {
     "end_time": "2021-02-08T14:27:48.111752Z",
     "start_time": "2021-02-08T14:27:48.088986Z"
    }
   },
   "outputs": [],
   "source": [
    "def get_cut(root, layer=1, pos1=-15, pos2=15, pos3=-15, pos4=15, pos5=-15, pos6=15):\n",
    "    '''\n",
    "    layer specifies up to which layer we are cutting on (1,2,4) -- 3=EMCAL\n",
    "    pos1, pos2 are for station 1 cut\n",
    "    pos3, pos4 are for station 2 cut\n",
    "    '''\n",
    "    totalEvents = len(root)\n",
    "    branches = root.arrays(namedecode='utf-8')   # dict of branches, all items are numpy arrays\n",
    "    \n",
    "    # all 10,000 events. Pass the boolean final_mask returned from make_cuts to get valid event IDs\n",
    "    eventID = branches[\"eventID\"]\n",
    "    \n",
    "    if (layer == 1):\n",
    "        indices = np.array([])\n",
    "        for ID in eventID:   # loop thru all 10,000 events\n",
    "            if make_cut(branches,ID,station=1,pos1=pos1,pos2=pos2):\n",
    "                # the event meets the criteria\n",
    "                indices = np.append(indices,True)\n",
    "            else:\n",
    "                # the event does not meet the criteria\n",
    "                indices = np.append(indices,False)\n",
    "    \n",
    "    elif (layer == 2):\n",
    "        indices = np.array([])\n",
    "        for ID in eventID:   # loop thru all 10,000 events\n",
    "            if make_cut(branches,ID,station=1,pos1=pos1,pos2=pos2):\n",
    "                # the event meets the criteria\n",
    "                indices = np.append(indices,True)\n",
    "            else:\n",
    "                # the event does not meet the criteria\n",
    "                indices = np.append(indices,False)\n",
    "        # now we have the indices of valid events meeting station 1 criteria, let's get their eventID\n",
    "        eventID_st2 = eventID[indices.astype(bool)]\n",
    "        # now we loop through these valid events\n",
    "        for ID in eventID_st2:\n",
    "            if make_cut(branches,ID,station=2,pos1=pos3,pos2=pos4):\n",
    "                # the event that meets st1 criteria also meets st2 criteria\n",
    "                indices[ID] = True\n",
    "            else:\n",
    "                indices[ID] = False\n",
    "        # by now, indices array should be updated to meet both criteria\n",
    "        \n",
    "    elif (layer == 4):\n",
    "        indices = np.array([])\n",
    "        for ID in eventID:   # loop thru all 10,000 events\n",
    "            if make_cut(branches,ID,station=1,pos1=pos1,pos2=pos2):\n",
    "                # the event meets the criteria\n",
    "                indices = np.append(indices,True)\n",
    "            else:\n",
    "                # the event does not meet the criteria\n",
    "                indices = np.append(indices,False)\n",
    "        \n",
    "        print(\"length of indices array {}\".format(len(indices)))\n",
    "        \n",
    "        eventID_st2 = eventID[indices.astype(bool)]\n",
    "        for ID in eventID_st2:\n",
    "            if make_cut(branches,ID,station=2,pos1=pos3,pos2=pos4):\n",
    "                # the event that meets st1 criteria also meets st2 criteria\n",
    "                indices[ID] = True\n",
    "            else:\n",
    "                indices[ID] = False\n",
    "        \n",
    "        print(\"length of indices array {}\".format(len(indices)))\n",
    "        \n",
    "        # perform the final cut at station 4\n",
    "        eventID_st4 = eventID[indices.astype(bool)]\n",
    "        for ID in eventID_st4:\n",
    "            if make_cut(branches,ID,station=4,pos1=pos5,pos2=pos6):\n",
    "                indices[ID] = True\n",
    "            else:\n",
    "                indices[ID] = False\n",
    "                \n",
    "    # convert the indices array to booleans\n",
    "    indices = indices.astype(bool)\n",
    "    \n",
    "    '''\n",
    "    with the boolean array of valid event indices, we can make new arrays w the data\n",
    "    then we can simply follow the original plotting method using the new arrays of valid data\n",
    "    '''\n",
    "    # get all the relevant data - 10,000 simulated events\n",
    "    all_detIDs = branches[\"hit_detID\"]\n",
    "    all_truthz = branches[\"hit_truthz\"]\n",
    "    all_truthx = branches[\"hit_truthx\"]\n",
    "    all_truthy = branches[\"hit_truthy\"]\n",
    "    \n",
    "    # select for only valid events -> apply boolean indices mask to all data\n",
    "    val_detIDs = all_detIDs[indices]\n",
    "    val_truthz = all_truthz[indices]\n",
    "    val_truthx = all_truthx[indices]\n",
    "    val_truthy = all_truthy[indices]\n",
    "    #debug - the resulting array should be as long as the sum of the Trues in indices\n",
    "    assert(len(val_detIDs)==np.sum(indices))\n",
    "    \n",
    "    # flatten\n",
    "    detIDs = val_detIDs.flatten()\n",
    "    truthz = val_truthz.flatten()\n",
    "    truthx = val_truthx.flatten()\n",
    "    truthy = val_truthy.flatten()   \n",
    "    \n",
    "    \n",
    "    '''Now we can apply the original technique to get the data'''\n",
    "    masks = {}\n",
    "    masks[\"H1BT\"] = np.logical_and(detIDs >= 31, detIDs <= 32)\n",
    "    masks[\"H2BT\"] = np.logical_and(detIDs >= 37, detIDs <= 38)\n",
    "    masks[\"H4BT\"] = np.logical_and(detIDs >= 45, detIDs <= 46)\n",
    "    masks[\"H1LR\"] = np.logical_and(detIDs >= 33, detIDs <= 34)\n",
    "    masks[\"H2LR\"] = np.logical_and(detIDs >= 35, detIDs <= 36)\n",
    "    masks[\"H4Y1LR\"] = np.logical_and(detIDs >= 41, detIDs <= 42)\n",
    "    masks[\"H4Y2LR\"] = np.logical_and(detIDs >= 43, detIDs <= 44)\n",
    "    masks[\"st1\"] = np.logical_and(truthz > 500, truthz < 1000)\n",
    "    masks[\"st2\"] = np.logical_and(truthz > 1200, truthz < 1600)\n",
    "    masks[\"st4\"] = truthz > 2000\n",
    "    \n",
    "    \n",
    "    det_st = [('H1BT', 'st1'),\n",
    "              ('H2BT', 'st2'),\n",
    "              ('H4BT', 'st4'),\n",
    "              ('H1LR', 'st1'),\n",
    "              ('H2LR', 'st2'),\n",
    "              ('H4Y1LR', 'st4'),\n",
    "              ('H4Y2LR', 'st4')]\n",
    "\n",
    "    vs = [(\"xy\",\"x [cm];y [cm]\")]\n",
    "    ivars = [truthx, truthy]\n",
    "    xs = []\n",
    "\n",
    "    for det, st in det_st:\n",
    "        for vshort, vtitle in vs:\n",
    "            detmask = np.logical_and(masks[det],masks[st])\n",
    "            ilabs = vtitle.split(';')\n",
    "            if (det[-1]=='T'):\n",
    "                x = ivars[0][detmask]\n",
    "            else:\n",
    "                x = ivars[1][detmask]\n",
    "            \n",
    "            xs.append(x)\n",
    "            \n",
    "    return xs"
   ]
  },
  {
   "cell_type": "markdown",
   "metadata": {},
   "source": [
    "## overlay"
   ]
  },
  {
   "cell_type": "code",
   "execution_count": 11,
   "metadata": {
    "ExecuteTime": {
     "end_time": "2021-02-08T14:42:18.003719Z",
     "start_time": "2021-02-08T14:42:17.986127Z"
    }
   },
   "outputs": [],
   "source": [
    "def combine_data(root, name, layer=1, pos1=-15, pos2=15, pos3=-15, pos4=15, pos5=-15, pos6=15):\n",
    "    process = name.split(\"_\")[2]\n",
    "    mass = name.split(\"_\")[3] + \"MeV\"\n",
    "    \n",
    "    bins_range = [(46, (-162.008,162.008), \"H1BT\"),\n",
    "                  (32, (-203.38,203.38), \"H2BT\"),\n",
    "                  (32, (-304.518,304.518), \"H4BT\"),\n",
    "                  (40, (-140.117,140.117), \"H1LR\"),\n",
    "                  (38, (-241.285,241.285), \"H2LR\"),\n",
    "                  (32, (-365.797,365.797), \"H4Y1LR\"),\n",
    "                  (32, (-365.797,365.797), \"H4Y2LR\")]\n",
    "    \n",
    "    # get data\n",
    "    og = get_data_sim(root)\n",
    "    cut = get_cut(root,layer,pos1,pos2,pos3,pos4,pos5,pos6)\n",
    "    \n",
    "    for i in range(len(bins_range)):\n",
    "        savename = \"cut_and_sim_{}\".format(bins_range[i][2])\n",
    "        title = \"Total Hits in {} ({})\".format(bins_range[i][2],process)\n",
    "        plt.clf()\n",
    "        fig = plt.figure()\n",
    "        \n",
    "        '''plot og data'''\n",
    "        ws_og = np.ones_like(og[i])/10000\n",
    "        if (i==2) or (i==5) or (i==6):\n",
    "            ws_og /= 2\n",
    "        plt.hist(og[i],bins=bins_range[i][0],range=bins_range[i][1],histtype='step',label=\"uncut\")\n",
    "    \n",
    "        '''plot cut data'''\n",
    "        ws_cut = np.ones_like(cut[i])/10000\n",
    "        if (i==2) or (i==5) or (i==6):\n",
    "            ws_cut /= 2\n",
    "        l = \"layer {} cut\".format(layer)\n",
    "        plt.hist(cut[i],bins=bins_range[i][0],range=bins_range[i][1],histtype='step',label=l)\n",
    "        \n",
    "        '''labeling'''\n",
    "        plt.ylabel(\"Total Hits\")\n",
    "        if (i<4):\n",
    "            plt.xlabel(\"x [cm]\")\n",
    "        else:\n",
    "            plt.xlabel(\"y [cm]\")\n",
    "        plt.title(title)\n",
    "        plt.legend(prop={'size':10})\n",
    "        #plt.savefig(savename)\n",
    "        plt.show()"
   ]
  },
  {
   "cell_type": "markdown",
   "metadata": {},
   "source": [
    "## plotting"
   ]
  },
  {
   "cell_type": "markdown",
   "metadata": {},
   "source": [
    "This plot is intended to compare the original signal data against data where cuts have been imposed. \n",
    "\n",
    "Since we are looking only at the total number of hits which meet the criteria for both the original and the cut, I would expect an amount of hits in the cut data less than or equal to the amount of hits in the uncut data. This is not the case::"
   ]
  },
  {
   "cell_type": "code",
   "execution_count": 12,
   "metadata": {
    "ExecuteTime": {
     "end_time": "2021-02-08T14:42:21.828938Z",
     "start_time": "2021-02-08T14:42:18.860592Z"
    },
    "scrolled": false
   },
   "outputs": [
    {
     "name": "stderr",
     "output_type": "stream",
     "text": [
      "<ipython-input-4-1f57026124b5>:12: RuntimeWarning: invalid value encountered in greater_equal\n",
      "  validx = np.logical_and(truthx >= pos1, truthx <= pos2)  # valid x-pos given range\n",
      "<ipython-input-4-1f57026124b5>:12: RuntimeWarning: invalid value encountered in less_equal\n",
      "  validx = np.logical_and(truthx >= pos1, truthx <= pos2)  # valid x-pos given range\n"
     ]
    },
    {
     "data": {
      "text/plain": [
       "<Figure size 432x288 with 0 Axes>"
      ]
     },
     "metadata": {},
     "output_type": "display_data"
    },
    {
     "data": {
      "image/png": "[encoded data removed]",
      "text/plain": [
       "<Figure size 432x288 with 1 Axes>"
      ]
     },
     "metadata": {
      "needs_background": "light"
     },
     "output_type": "display_data"
    },
    {
     "data": {
      "text/plain": [
       "<Figure size 432x288 with 0 Axes>"
      ]
     },
     "metadata": {},
     "output_type": "display_data"
    },
    {
     "data": {
      "image/png": "[encoded data removed]",
      "text/plain": [
       "<Figure size 432x288 with 1 Axes>"
      ]
     },
     "metadata": {
      "needs_background": "light"
     },
     "output_type": "display_data"
    },
    {
     "data": {
      "text/plain": [
       "<Figure size 432x288 with 0 Axes>"
      ]
     },
     "metadata": {},
     "output_type": "display_data"
    },
    {
     "data": {
      "image/png": "[encoded data removed]",
      "text/plain": [
       "<Figure size 432x288 with 1 Axes>"
      ]
     },
     "metadata": {
      "needs_background": "light"
     },
     "output_type": "display_data"
    },
    {
     "name": "stderr",
     "output_type": "stream",
     "text": [
      "/home/amitav/miniconda3/envs/DarkQuest/lib/python3.8/site-packages/numpy/lib/histograms.py:839: RuntimeWarning: invalid value encountered in greater_equal\n",
      "  keep = (tmp_a >= first_edge)\n",
      "/home/amitav/miniconda3/envs/DarkQuest/lib/python3.8/site-packages/numpy/lib/histograms.py:840: RuntimeWarning: invalid value encountered in less_equal\n",
      "  keep &= (tmp_a <= last_edge)\n"
     ]
    },
    {
     "data": {
      "text/plain": [
       "<Figure size 432x288 with 0 Axes>"
      ]
     },
     "metadata": {},
     "output_type": "display_data"
    },
    {
     "data": {
      "image/png": "[encoded data removed]",
      "text/plain": [
       "<Figure size 432x288 with 1 Axes>"
      ]
     },
     "metadata": {
      "needs_background": "light"
     },
     "output_type": "display_data"
    },
    {
     "data": {
      "text/plain": [
       "<Figure size 432x288 with 0 Axes>"
      ]
     },
     "metadata": {},
     "output_type": "display_data"
    },
    {
     "data": {
      "image/png": "[encoded data removed]",
      "text/plain": [
       "<Figure size 432x288 with 1 Axes>"
      ]
     },
     "metadata": {
      "needs_background": "light"
     },
     "output_type": "display_data"
    },
    {
     "name": "stderr",
     "output_type": "stream",
     "text": [
      "/home/amitav/miniconda3/envs/DarkQuest/lib/python3.8/site-packages/numpy/lib/histograms.py:839: RuntimeWarning: invalid value encountered in greater_equal\n",
      "  keep = (tmp_a >= first_edge)\n",
      "/home/amitav/miniconda3/envs/DarkQuest/lib/python3.8/site-packages/numpy/lib/histograms.py:840: RuntimeWarning: invalid value encountered in less_equal\n",
      "  keep &= (tmp_a <= last_edge)\n",
      "/home/amitav/miniconda3/envs/DarkQuest/lib/python3.8/site-packages/numpy/lib/histograms.py:839: RuntimeWarning: invalid value encountered in greater_equal\n",
      "  keep = (tmp_a >= first_edge)\n",
      "/home/amitav/miniconda3/envs/DarkQuest/lib/python3.8/site-packages/numpy/lib/histograms.py:840: RuntimeWarning: invalid value encountered in less_equal\n",
      "  keep &= (tmp_a <= last_edge)\n"
     ]
    },
    {
     "data": {
      "text/plain": [
       "<Figure size 432x288 with 0 Axes>"
      ]
     },
     "metadata": {},
     "output_type": "display_data"
    },
    {
     "data": {
      "image/png": "[encoded data removed]",
      "text/plain": [
       "<Figure size 432x288 with 1 Axes>"
      ]
     },
     "metadata": {
      "needs_background": "light"
     },
     "output_type": "display_data"
    },
    {
     "data": {
      "text/plain": [
       "<Figure size 432x288 with 0 Axes>"
      ]
     },
     "metadata": {},
     "output_type": "display_data"
    },
    {
     "data": {
      "image/png": "[encoded data removed]",
      "text/plain": [
       "<Figure size 432x288 with 1 Axes>"
      ]
     },
     "metadata": {
      "needs_background": "light"
     },
     "output_type": "display_data"
    }
   ],
   "source": [
    "combine_data(truth054,Eta054,layer=4,pos1=-5,pos2=5,pos3=-5,pos4=5,pos5=-5,pos6=5)"
   ]
  },
  {
   "cell_type": "code",
   "execution_count": null,
   "metadata": {},
   "outputs": [],
   "source": []
  }
 ],
 "metadata": {
  "kernelspec": {
   "display_name": "Python 3.8.3 64-bit ('DarkQuest': conda)",
   "language": "python",
   "name": "python38364bitdarkquestconda537b0d0bc99b4be781ce4ff6447819ad"
  },
  "language_info": {
   "codemirror_mode": {
    "name": "ipython",
    "version": 3
   },
   "file_extension": ".py",
   "mimetype": "text/x-python",
   "name": "python",
   "nbconvert_exporter": "python",
   "pygments_lexer": "ipython3",
   "version": "3.8.3"
  },
  "toc": {
   "base_numbering": 1,
   "nav_menu": {},
   "number_sections": true,
   "sideBar": true,
   "skip_h1_title": false,
   "title_cell": "Table of Contents",
   "title_sidebar": "Contents",
   "toc_cell": false,
   "toc_position": {},
   "toc_section_display": true,
   "toc_window_display": false
  },
  "varInspector": {
   "cols": {
    "lenName": 16,
    "lenType": 16,
    "lenVar": 40
   },
   "kernels_config": {
    "python": {
     "delete_cmd_postfix": "",
     "delete_cmd_prefix": "del ",
     "library": "var_list.py",
     "varRefreshCmd": "print(var_dic_list())"
    },
    "r": {
     "delete_cmd_postfix": ") ",
     "delete_cmd_prefix": "rm(",
     "library": "var_list.r",
     "varRefreshCmd": "cat(var_dic_list()) "
    }
   },
   "types_to_exclude": [
    "module",
    "function",
    "builtin_function_or_method",
    "instance",
    "_Feature"
   ],
   "window_display": false
  }
 },
 "nbformat": 4,
 "nbformat_minor": 4
}
