{
 "cells": [
  {
   "cell_type": "markdown",
   "metadata": {},
   "source": [
    "This notebook shows an example of producing a plot of Signal Efficiency vs Background Rejection for a certain process and mass, and for customizable cut parameters."
   ]
  },
  {
   "cell_type": "markdown",
   "metadata": {},
   "source": [
    "# Imports"
   ]
  },
  {
   "cell_type": "code",
   "execution_count": 1,
   "metadata": {
    "ExecuteTime": {
     "end_time": "2021-02-15T21:56:01.966001Z",
     "start_time": "2021-02-15T21:56:01.446859Z"
    }
   },
   "outputs": [],
   "source": [
    "import uproot4\n",
    "import uproot\n",
    "import awkward1 as ak\n",
    "import numpy as np\n",
    "import matplotlib.pyplot as plt\n",
    "from matplotlib import cm\n",
    "from matplotlib.ticker import LinearLocator, FormatStrFormatter\n",
    "from matplotlib import rcParams\n",
    "from mpl_toolkits.mplot3d import Axes3D  # noqa: F401 unused import                                                                                                                  \n",
    "import mplhep as hep\n",
    "plt.style.use(hep.style.ROOT)"
   ]
  },
  {
   "cell_type": "markdown",
   "metadata": {},
   "source": [
    "# Files "
   ]
  },
  {
   "cell_type": "markdown",
   "metadata": {},
   "source": [
    "Background"
   ]
  },
  {
   "cell_type": "code",
   "execution_count": 2,
   "metadata": {
    "ExecuteTime": {
     "end_time": "2021-02-15T21:56:37.921889Z",
     "start_time": "2021-02-15T21:56:03.011413Z"
    }
   },
   "outputs": [],
   "source": [
    "root = uproot4.concatenate(\"../../../../2017Data/combined_data/track_*.root:save/rawEvent\",[\"fTriggerBits\",\"fAllHits.pos\",\"fAllHits.driftDistance\",\"fAllHits.detectorID\"],library=\"ak\",how=\"zip\")"
   ]
  },
  {
   "cell_type": "markdown",
   "metadata": {},
   "source": [
    "Signal"
   ]
  },
  {
   "cell_type": "code",
   "execution_count": 3,
   "metadata": {
    "ExecuteTime": {
     "end_time": "2021-02-15T21:56:41.232583Z",
     "start_time": "2021-02-15T21:56:41.229006Z"
    }
   },
   "outputs": [],
   "source": [
    "# names \n",
    "Brem003 = \"../../../../electrons/sim_eval_Brem_0.033428_z500_600_eps_-5.2.root\"\n",
    "Brem047 = \"../../../../electrons/sim_eval_Brem_0.470915_z500_600_eps_-6.root\"\n",
    "Eta001 = \"../../../../electrons/sim_eval_Eta_0.019564_z500_600_eps_-5.2.root\"\n",
    "Eta054 = \"../../../../electrons/sim_eval_Eta_0.540000_z500_600_eps_-6.root\""
   ]
  },
  {
   "cell_type": "markdown",
   "metadata": {},
   "source": [
    "# Get Background Data"
   ]
  },
  {
   "cell_type": "code",
   "execution_count": 4,
   "metadata": {
    "ExecuteTime": {
     "end_time": "2021-02-15T21:56:41.948821Z",
     "start_time": "2021-02-15T21:56:41.916800Z"
    }
   },
   "outputs": [],
   "source": [
    "def get_BackgroundData(root):\n",
    "    bg_events = ak.zip({\"Hits\":ak.zip({\n",
    "                                        \"detectorID\": root.fAllHits[\"detectorID\"],\n",
    "                                        \"pos\": root.fAllHits[\"pos\"]\n",
    "                                      })\n",
    "                       }, depth_limit=1)\n",
    "    return bg_events\n",
    "\n",
    "def H1BT(arr, data=\"Background\"):\n",
    "    if (data==\"Background\"):\n",
    "        mask = (arr.detectorID >= 31) & (arr.detectorID <= 32)\n",
    "    else:\n",
    "        mask = (arr.detID >= 31) & (arr.detID <= 32)\n",
    "    return mask\n",
    "\n",
    "def H1LR(arr, data=\"Background\"):\n",
    "    if (data==\"Background\"):\n",
    "        mask = (arr.detectorID >= 33) & (arr.detectorID <= 34)\n",
    "    else:\n",
    "        mask = (arr.detID >= 33) & (arr.detID <= 34)\n",
    "    return mask\n",
    "\n",
    "def H2BT(arr, data=\"Background\"):\n",
    "    if (data==\"Background\"):\n",
    "        mask = (arr.detectorID >= 37) & (arr.detectorID <= 38)\n",
    "    else:\n",
    "        mask = (arr.detID >= 37) & (arr.detID <= 37)\n",
    "    return mask\n",
    "\n",
    "def H2LR(arr, data=\"Background\"):\n",
    "    if (data==\"Background\"):\n",
    "        mask = (arr.detectorID >= 35) & (arr.detectorID <= 36)\n",
    "    else:\n",
    "        mask = (arr.detID >= 35) & (arr.detID <= 36)\n",
    "    return mask\n",
    "\n",
    "def H4BT(arr, data=\"Background\"):\n",
    "    if (data==\"Background\"):\n",
    "        mask = (arr.detectorID >= 45) & (arr.detectorID <= 46)\n",
    "    else:\n",
    "        mask = (arr.detID >= 45) & (arr.detID <= 46)\n",
    "    return mask\n",
    "\n",
    "def H4Y1LR(arr, data=\"Background\"):\n",
    "    if (data==\"Background\"):\n",
    "        mask = (arr.detectorID >= 41) & (arr.detectorID <= 42)\n",
    "    else:\n",
    "        mask = (arr.detID >= 41) & (arr.detID <= 42)\n",
    "    return mask\n",
    "\n",
    "def H4Y2LR(arr, data=\"Background\"):\n",
    "    if (data==\"Background\"):\n",
    "        mask = (arr.detectorID >= 43) & (arr.detectorID <= 44)\n",
    "    else:\n",
    "        mask = (arr.detID >= 43) & (arr.detID <= 44)\n",
    "    return mask\n",
    "\n",
    "def layer4_BG(root,pos1=-10,pos2=10,pos3=-10,pos4=10,pos5=-10,pos6=10):\n",
    "    '''impose cuts on BG data'''\n",
    "    # get all events\n",
    "    allHits = get_BackgroundData(root)[\"Hits\"]\n",
    "    # get all valid events based on TriggerBits criteria (random trigger)\n",
    "    validEvent_fTriggerBits = (root.fTriggerBits==65) | (root.fTriggerBits==67)\n",
    "    # now mask all events by TriggerBits\n",
    "    hitsBG = allHits[validEvent_fTriggerBits]\n",
    "    \n",
    "    # cut on station 1\n",
    "    h1_mask = H1BT(hitsBG)\n",
    "    h1_hits = hitsBG[h1_mask]\n",
    "    x1_mask = (h1_hits.pos >= pos1) & (h1_hits.pos <= pos2)\n",
    "    x1_index = np.where(ak.any(x1_mask,axis=1))   # indices of all events meeting st1 criteria\n",
    "    n1 = len(ak.flatten(x1_index))   # number of valid events after cut 1\n",
    "    \n",
    "    # cut on station 2\n",
    "    h2_mask = H2BT(hitsBG)\n",
    "    h2_hits = hitsBG[h2_mask]\n",
    "    x2_mask = (h2_hits.pos >= pos3) & (h2_hits.pos <= pos4)\n",
    "    x2_index = np.where(ak.any(x2_mask,axis=1))   # indices of all events meeting st2 criteria\n",
    "    # get indices of events meeting st1 AND st2 criteria\n",
    "    x1x2_index = np.intersect1d(x1_index,x2_index)   # we use this to plot H2BT/H2LR\n",
    "    n2 = len(x1x2_index)   # number of valid events after cut1 and cut2\n",
    "    \n",
    "    '''\n",
    "    print(h2_mask)\n",
    "    print(np.sum(h2_mask))\n",
    "    print(x2_mask)\n",
    "    print(x2_index)\n",
    "    print(np.sum(x2_index))\n",
    "    print(x1x2_index)\n",
    "    '''\n",
    "    \n",
    "    # cut on station 4\n",
    "    h4_mask = H4BT(hitsBG)\n",
    "    h4_hits = hitsBG[h4_mask]\n",
    "    x4_mask = (h4_hits.pos >= pos5) & (h4_hits.pos <= pos6)\n",
    "    x4_index = np.where(ak.any(x4_mask,axis=1))\n",
    "    # get indices of valid events meeting all 3 criteria\n",
    "    final_index = np.intersect1d(x1x2_index,x4_index)    # we use this to plot H4s\n",
    "    n4 = len(final_index)\n",
    "    \n",
    "    # get L/R hodos\n",
    "    h1lr = H1LR(hitsBG)\n",
    "    h2lr = H2LR(hitsBG)\n",
    "    h4y1lr = H4Y1LR(hitsBG)\n",
    "    h4y2lr = H4Y2LR(hitsBG)\n",
    "    \n",
    "    h1lr_hits = hitsBG[h1lr]\n",
    "    h2lr_hits = hitsBG[h2lr]\n",
    "    h4y1lr_hits = hitsBG[h4y1lr]\n",
    "    h4y2lr_hits = hitsBG[h4y2lr]\n",
    "    \n",
    "    # now use the appropriate x?_index array to get the valid entries \n",
    "    # return a list of each detector [uncut,cut,nevents_cut] -> needs to be flattened\n",
    "    return [[h1_hits.pos,h1_hits[x1_index].pos,n1],         # H1Bt\n",
    "            [h2_hits.pos,h2_hits[x1x2_index].pos,n2],       # H2BT\n",
    "            [h4_hits.pos,h4_hits[x4_mask].pos,n4],          # H4BT\n",
    "            [h1lr_hits.pos,h1lr_hits[x1_index].pos,n1],     # H1LR\n",
    "            [h2lr_hits.pos,h2lr_hits[x1x2_index].pos,n2],   # H2LR\n",
    "            [h4y1lr_hits.pos,h4y1lr_hits[x4_index].pos,n4], # H4Y1LR\n",
    "            [h4y2lr_hits.pos,h4y2lr_hits[x4_index].pos,n4]] # H4Y2LR"
   ]
  },
  {
   "cell_type": "markdown",
   "metadata": {},
   "source": [
    "# Get Signal Data"
   ]
  },
  {
   "cell_type": "code",
   "execution_count": 5,
   "metadata": {
    "ExecuteTime": {
     "end_time": "2021-02-15T21:56:42.572608Z",
     "start_time": "2021-02-15T21:56:42.565418Z"
    }
   },
   "outputs": [],
   "source": [
    "def getDataSim(fname=\"\", procName=\"Truth\"):\n",
    "    dq_dict = uproot.open(fname)[\"Truth\"]\n",
    "    dq_events = ak.zip({\"Hits\":ak.zip({\n",
    "                                      \"detID\":   dq_dict[\"hit_detID\"].array(),\n",
    "                                      \"edep\":    dq_dict[\"hit_edep\"].array(),\n",
    "                                      \"elmID\":   dq_dict[\"hit_elmID\"].array(),\n",
    "                                      \"truthx\":  dq_dict[\"hit_truthx\"].array(),\n",
    "                                      \"truthy\":  dq_dict[\"hit_truthy\"].array(),\n",
    "                                      \"truthz\":  dq_dict[\"hit_truthz\"].array(),\n",
    "                                      })\n",
    "                        }, depth_limit=1)\n",
    "    \n",
    "    return dq_events"
   ]
  },
  {
   "cell_type": "markdown",
   "metadata": {},
   "source": [
    "Get the actual data from the simulation ROOT files"
   ]
  },
  {
   "cell_type": "code",
   "execution_count": 6,
   "metadata": {
    "ExecuteTime": {
     "end_time": "2021-02-15T21:57:11.168975Z",
     "start_time": "2021-02-15T21:56:43.147914Z"
    }
   },
   "outputs": [],
   "source": [
    "# actual file\n",
    "Truth003 = getDataSim(Brem003)[\"Hits\"]\n",
    "Truth047 = getDataSim(Brem047)[\"Hits\"]\n",
    "Truth001 = getDataSim(Eta001)[\"Hits\"]\n",
    "Truth054 = getDataSim(Eta054)[\"Hits\"]"
   ]
  },
  {
   "cell_type": "code",
   "execution_count": 7,
   "metadata": {
    "ExecuteTime": {
     "end_time": "2021-02-15T21:57:21.917385Z",
     "start_time": "2021-02-15T21:57:21.904514Z"
    }
   },
   "outputs": [],
   "source": [
    "def layer4Sim(root,pos1=-10,pos2=10,pos3=-10,pos4=10,pos5=-10,pos6=10):\n",
    "    '''\n",
    "    pass the full ROOT file into this function\n",
    "    '''\n",
    "    hits = root   # just for ease of not having to change everything..\n",
    "    \n",
    "    h1_mask = H1BT(hits,data=\"signal\")\n",
    "    h1_hits = hits[h1_mask]\n",
    "    x1_mask = (h1_hits.truthx >= pos1) & (h1_hits.truthx <= pos2)\n",
    "    x1_index = np.where(ak.any(x1_mask,axis=1))\n",
    "    nvalid1 = len(ak.flatten(x1_index))   # number of valid events after cut 1\n",
    "    \n",
    "    h2_mask = H2BT(hits,data=\"signal\")\n",
    "    h2_hits = hits[h2_mask]\n",
    "    x2_mask = (h2_hits.truthx >= pos3) & (h2_hits.truthx <= pos4)\n",
    "    x2_index = np.where(ak.any(x2_mask,axis=1))\n",
    "    # get indices of valid events meeting all criteria\n",
    "    indices = np.intersect1d(x1_index,x2_index)\n",
    "    nvalid2 = len(indices)\n",
    "\n",
    "    h4_mask = H4BT(hits,data=\"signal\")\n",
    "    h4_hits = hits[h4_mask]\n",
    "    x4_mask = (h4_hits.truthx >= pos5) & (h4_hits.truthx <= pos6)\n",
    "    x4_index = np.where(ak.any(x4_mask,axis=1))\n",
    "    # get indices of valid events meeting all criteria\n",
    "    valid = np.intersect1d(indices,x4_index)\n",
    "    nvalid4 = len(valid)\n",
    "\n",
    "    # get the LR hodos\n",
    "    h1lr = H1LR(hits,data=\"signal\")\n",
    "    h2lr = H2LR(hits,data=\"signal\")\n",
    "    h4y1lr = H4Y1LR(hits,data=\"signal\")\n",
    "    h4y2lr = H4Y2LR(hits,data=\"signal\")\n",
    "    \n",
    "    h1lr_hits = hits[h1lr]\n",
    "    h2lr_hits = hits[h2lr]\n",
    "    h4y1lr_hits = hits[h4y1lr]\n",
    "    h4y2lr_hits = hits[h4y2lr]\n",
    "\n",
    "    # now use the appropriate x?_index array to get the valid entries \n",
    "    # return a list of each detector [uncut,cut,nevents_cut] -> needs to be flattened\n",
    "    return [[h1_hits.truthx,h1_hits[x1_index].truthx,nvalid1],         # H1Bt\n",
    "            [h2_hits.truthx,h2_hits[indices].truthx,nvalid2],          # H2BT\n",
    "            [h4_hits.truthx,h4_hits[x4_mask].truthx,nvalid4],          # H4BT\n",
    "            [h1lr_hits.truthy,h1lr_hits[x1_index].truthy,nvalid1],     # H1LR\n",
    "            [h2lr_hits.truthy,h2lr_hits[indices].truthy,nvalid2],     # H2LR\n",
    "            [h4y1lr_hits.truthy,h4y1lr_hits[x4_index].truthy,nvalid4], # H4Y1LR\n",
    "            [h4y2lr_hits.truthy,h4y2lr_hits[x4_index].truthy,nvalid4]] # H4Y2LR\n"
   ]
  },
  {
   "cell_type": "markdown",
   "metadata": {},
   "source": [
    "# ROC Curve"
   ]
  },
  {
   "cell_type": "code",
   "execution_count": 8,
   "metadata": {
    "ExecuteTime": {
     "end_time": "2021-02-15T21:57:23.057083Z",
     "start_time": "2021-02-15T21:57:23.044899Z"
    }
   },
   "outputs": [],
   "source": [
    "def efficiencies(bg, sim, num=100, cut1=(10,1), cut2=(10,1), cut4=(10,1)):\n",
    "    '''\n",
    "    Returns arrays of signal efficiency and background rejection for each of the three layers cut over a given array of x-ranges\n",
    "    bg = background data ROOT file\n",
    "    sim = signal data ROOT file\n",
    "    num = number of different cuts to make\n",
    "    cut_ = bounds for making the cuts at each station (larger, smaller) inclusive \n",
    "        i.e. If you want to cuts from -100,100cm down to -1,1cm on station 1 -> cut1=(100,1)\n",
    "    '''\n",
    "    # generate the bounds\n",
    "    b1 = np.linspace(cut1[0],cut1[1],num=num)\n",
    "    b2 = np.linspace(cut2[0],cut2[1],num=num)\n",
    "    b4 = np.linspace(cut4[0],cut4[1],num=num)\n",
    "    \n",
    "    # arrays to hold the SE and BR values for each cut -> will be merged into three shape (2,xrange) arrays at the end\n",
    "    st1_SE = np.array([])\n",
    "    st1_BR = np.array([])\n",
    "    st2_SE = np.array([])\n",
    "    st2_BR = np.array([])\n",
    "    st4_SE = np.array([])\n",
    "    st4_BR = np.array([])\n",
    "    \n",
    "    # loop through x-ranges, perform cuts \n",
    "    for i in range(num):\n",
    "        bkg_data = layer4_BG(bg, pos1=-b1[i], pos2=b1[i], pos3=-b2[i], pos4=b2[i], pos5=-b4[i], pos6=b4[i])\n",
    "        #print(\"bkg done\")\n",
    "        sim_data = layer4Sim(sim, pos1=-b1[i], pos2=b1[i], pos3=-b2[i], pos4=b2[i], pos5=-b4[i], pos6=b4[i]) \n",
    "        #print(\"sim done\")\n",
    "        \n",
    "        # get the SEs\n",
    "        SE1 = sim_data[0][2]/10000       # caclulate SE at st1\n",
    "        st1_SE = np.append(st1_SE, SE1)  # append it to array\n",
    "        SE2 = sim_data[1][2]/10000\n",
    "        st2_SE = np.append(st2_SE, SE2)\n",
    "        SE4 = sim_data[2][2]/10000\n",
    "        st4_SE = np.append(st4_SE, SE4)\n",
    "        \n",
    "        # get the BRs\n",
    "        BR1 = 1 - bkg_data[0][2]/677\n",
    "        st1_BR = np.append(st1_BR, BR1)\n",
    "        BR2 = 1 - bkg_data[1][2]/677\n",
    "        st2_BR = np.append(st2_BR, BR2)\n",
    "        BR4 = 1 - bkg_data[2][2]/677\n",
    "        st4_BR = np.append(st4_BR, BR4)\n",
    "    \n",
    "    # return three arrays, each of the form [SE,BR], for stations 1 2 4\n",
    "    return np.array([st1_SE,st1_BR]), np.array([st2_SE,st2_BR]), np.array([st4_SE,st4_BR])"
   ]
  },
  {
   "cell_type": "code",
   "execution_count": 9,
   "metadata": {
    "ExecuteTime": {
     "end_time": "2021-02-15T21:57:23.445156Z",
     "start_time": "2021-02-15T21:57:23.437313Z"
    }
   },
   "outputs": [],
   "source": [
    "def plot_efficiencies(st1,st2,st4,name):\n",
    "    '''\n",
    "    pass the three arrays of shape (2,xrange)\n",
    "    pass the name of the sim file used\n",
    "    '''\n",
    "    # get process and mass\n",
    "    mass = name.split(\"_\")[3][0:4] + \" MeV\"\n",
    "    proc = name.split(\"_\")[2]\n",
    "    \n",
    "    # get data\n",
    "    st1_SE = st1[0]\n",
    "    st1_BR = st1[1]\n",
    "    st2_SE = st2[0]\n",
    "    st2_BR = st2[1]\n",
    "    st4_SE = st4[0]\n",
    "    st4_BR = st4[1]\n",
    "    \n",
    "    # plot\n",
    "    plt.plot(st1_SE, st1_BR, \"-b\", label=\"ST1\")\n",
    "    plt.plot(st2_SE, st2_BR, \"-r\", label=\"ST2\")\n",
    "    plt.plot(st4_SE, st4_BR, \"-g\", label=\"ST4\")\n",
    "    plt.title(\"Signal Efficiency vs Background Rejection {} {}\".format(proc,mass))\n",
    "    plt.xlabel(\"Signal Efficiency\")\n",
    "    plt.ylabel(\"Background Rejection\")\n",
    "    plt.legend(loc='upper right')\n",
    "    #plt.savefig(\"efficiencies_{}\".format(proc))"
   ]
  },
  {
   "cell_type": "code",
   "execution_count": 12,
   "metadata": {
    "ExecuteTime": {
     "end_time": "2021-02-15T22:00:59.445012Z",
     "start_time": "2021-02-15T22:00:12.348184Z"
    }
   },
   "outputs": [],
   "source": [
    "st1,st2,st4 = efficiencies(root,Truth054,num=100,cut1=(100,0.5),cut2=(1000,1000),cut4=(1000,1000))"
   ]
  },
  {
   "cell_type": "code",
   "execution_count": 13,
   "metadata": {
    "ExecuteTime": {
     "end_time": "2021-02-15T22:00:59.853097Z",
     "start_time": "2021-02-15T22:00:59.481789Z"
    }
   },
   "outputs": [
    {
     "data": {
      "image/png": "[encoded data removed]",
      "text/plain": [
       "<Figure size 720x720 with 1 Axes>"
      ]
     },
     "metadata": {
      "needs_background": "light"
     },
     "output_type": "display_data"
    }
   ],
   "source": [
    "plot_efficiencies(st1,st2,st4,Eta054)"
   ]
  },
  {
   "cell_type": "markdown",
   "metadata": {},
   "source": [
    "Where \n",
    "\n",
    "$$\\text{Background Rejection} = 1-\\frac{\\text{valid background events}}{\\text{total events}}$$\n",
    "\n",
    "$$\\text{Signal Efficiency} = \\frac{\\text{valid signal events}}{\\text{total events}}$$"
   ]
  },
  {
   "cell_type": "code",
   "execution_count": null,
   "metadata": {},
   "outputs": [],
   "source": []
  }
 ],
 "metadata": {
  "kernelspec": {
   "display_name": "Python 3.8.3 64-bit ('DarkQuest': conda)",
   "language": "python",
   "name": "python38364bitdarkquestconda537b0d0bc99b4be781ce4ff6447819ad"
  },
  "language_info": {
   "codemirror_mode": {
    "name": "ipython",
    "version": 3
   },
   "file_extension": ".py",
   "mimetype": "text/x-python",
   "name": "python",
   "nbconvert_exporter": "python",
   "pygments_lexer": "ipython3",
   "version": "3.8.3"
  },
  "toc": {
   "base_numbering": 1,
   "nav_menu": {},
   "number_sections": true,
   "sideBar": true,
   "skip_h1_title": false,
   "title_cell": "Table of Contents",
   "title_sidebar": "Contents",
   "toc_cell": false,
   "toc_position": {},
   "toc_section_display": true,
   "toc_window_display": false
  },
  "varInspector": {
   "cols": {
    "lenName": 16,
    "lenType": 16,
    "lenVar": 40
   },
   "kernels_config": {
    "python": {
     "delete_cmd_postfix": "",
     "delete_cmd_prefix": "del ",
     "library": "var_list.py",
     "varRefreshCmd": "print(var_dic_list())"
    },
    "r": {
     "delete_cmd_postfix": ") ",
     "delete_cmd_prefix": "rm(",
     "library": "var_list.r",
     "varRefreshCmd": "cat(var_dic_list()) "
    }
   },
   "types_to_exclude": [
    "module",
    "function",
    "builtin_function_or_method",
    "instance",
    "_Feature"
   ],
   "window_display": false
  }
 },
 "nbformat": 4,
 "nbformat_minor": 4
}
