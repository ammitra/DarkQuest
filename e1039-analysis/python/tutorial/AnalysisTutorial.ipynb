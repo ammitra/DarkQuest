{
 "cells": [
  {
   "cell_type": "markdown",
   "metadata": {},
   "source": [
    "![SpinQuest/DarkQuest Layout](SpinQuestLayout.JPG)"
   ]
  },
  {
   "cell_type": "markdown",
   "metadata": {},
   "source": [
    "# DarkQuest Analysis & Uproot Tutorial"
   ]
  },
  {
   "cell_type": "markdown",
   "metadata": {},
   "source": [
    "[Root](https://root.cern/) is an object-oriented software framework for data analysis developed by CERN, and is used all throughout particle physics. This framework offers very useful features such as a GUI for interactive data analysis, file I/O, plotting functions (histograms, curve fitting, statistics, etc), and more. \n",
    "\n",
    "Since it is written in and relies on C++, using the ROOT application itself requires knowledge of C++ and can be tricky at first. This tutorial will not cover how to use ROOT itself, but instead [Uproot](https://uproot.readthedocs.io/en/latest/), a python library for reading ROOT files. Nonetheless, it is a good idea to play around with ROOT and learn how to use it, as it comes in very handy anywhere in particle physics. In addition, this tutorial will cover using the [Awkward](https://awkward-array.readthedocs.io/en/latest/) and [Awkward1](https://pypi.org/project/awkward1/) python libraries for dealing with nested arrays of nonuniform size.\n",
    "\n",
    "**Tutorials/Documentation:**\n",
    "\n",
    "* [Root](https://root.cern.ch/root/htmldoc/guides/primer/ROOTPrimer.html)\n",
    "* [Uproot](https://uproot.readthedocs.io/en/latest/basic.html)\n",
    "* [Awkward](https://awkward-array.readthedocs.io/en/latest/)\n",
    "* [Awkward1](https://pypi.org/project/awkward1/)\n",
    "\n",
    "**Physics of DarkQuest:** https://arxiv.org/pdf/1804.00661.pdf"
   ]
  },
  {
   "cell_type": "markdown",
   "metadata": {},
   "source": [
    "# Installing Dependencies"
   ]
  },
  {
   "cell_type": "markdown",
   "metadata": {},
   "source": [
    "Install the following packages:\n",
    "```\n",
    "pip install uproot\n",
    "pip install awkward1\n",
    "```\n",
    "Ideally, use Anaconda and install all the packages in their own environment.\n",
    "\n",
    "You'll also need `matplotlib` and `numpy`, but you probably have these already. Optionally, install `pandas` so that you can easily visualize the contents of the ROOT files you'll be working with:\n",
    "```\n",
    "pip install pandas\n",
    "```"
   ]
  },
  {
   "cell_type": "markdown",
   "metadata": {},
   "source": [
    "# Getting Started"
   ]
  },
  {
   "cell_type": "markdown",
   "metadata": {
    "ExecuteTime": {
     "end_time": "2021-04-08T14:50:54.132584Z",
     "start_time": "2021-04-08T14:50:54.127276Z"
    }
   },
   "source": [
    "After cloning this git repo, copy the ROOT files\n",
    "\n",
    "`sim_eval_Brem_0.470915_z500_600_eps_-6.root` and \n",
    "\n",
    "`sim_eval_Brem_0.033428_z500_600_eps_-6.root` \n",
    "\n",
    "to this directory. These files contain simulated data of two electrons, the decay product of $A'$ dark photons produced by proton bremsstrahlung. The number after `Brem_` is the mass of the dark photon in GeV, followed by the fiducial decay region (z = 5-6 meters), and the kinetic mixing parameter $\\epsilon=10^{-6}$. These are all properties of the simulation, and therefore produce different results. This tutorial will explore those different results while introducing analysis concepts in ROOT and Uproot."
   ]
  },
  {
   "cell_type": "markdown",
   "metadata": {},
   "source": [
    "Now, we use Uproot to read these files by passing the filename path to the `open` function:"
   ]
  },
  {
   "cell_type": "code",
   "execution_count": 88,
   "metadata": {
    "ExecuteTime": {
     "end_time": "2021-04-08T16:53:52.264575Z",
     "start_time": "2021-04-08T16:53:52.260837Z"
    }
   },
   "outputs": [],
   "source": [
    "import uproot"
   ]
  },
  {
   "cell_type": "code",
   "execution_count": 89,
   "metadata": {
    "ExecuteTime": {
     "end_time": "2021-04-08T16:53:52.542478Z",
     "start_time": "2021-04-08T16:53:52.514161Z"
    }
   },
   "outputs": [],
   "source": [
    "sim = \"sim_eval_Brem_0.470915_z500_600_eps_-6.root\"\n",
    "\n",
    "truth = uproot.open(sim)"
   ]
  },
  {
   "cell_type": "markdown",
   "metadata": {},
   "source": [
    "Now, `truth` contains the information from the top-level directory of the ROOT file for the high mass $A'$ data. Looking at the object we see that it is in fact a `ROOTDirectory` file:"
   ]
  },
  {
   "cell_type": "code",
   "execution_count": 90,
   "metadata": {
    "ExecuteTime": {
     "end_time": "2021-04-08T16:53:53.377257Z",
     "start_time": "2021-04-08T16:53:53.372073Z"
    }
   },
   "outputs": [
    {
     "data": {
      "text/plain": [
       "uproot.rootio.ROOTDirectory"
      ]
     },
     "execution_count": 90,
     "metadata": {},
     "output_type": "execute_result"
    }
   ],
   "source": [
    "type(truth)"
   ]
  },
  {
   "cell_type": "markdown",
   "metadata": {},
   "source": [
    "`ROOTDirectory` files are similar to Python dictionaries in that they have keys and values:"
   ]
  },
  {
   "cell_type": "code",
   "execution_count": 91,
   "metadata": {
    "ExecuteTime": {
     "end_time": "2021-04-08T16:53:54.094815Z",
     "start_time": "2021-04-08T16:53:54.089492Z"
    }
   },
   "outputs": [
    {
     "data": {
      "text/plain": [
       "[b'Truth;1']"
      ]
     },
     "execution_count": 91,
     "metadata": {},
     "output_type": "execute_result"
    }
   ],
   "source": [
    "truth.keys()"
   ]
  },
  {
   "cell_type": "markdown",
   "metadata": {},
   "source": [
    "These simulation files have only one subdirectory, named `Truth`, which itself is also a `ROOTDirectory`, with keys and values. \n",
    "\n",
    "**Note:** the `'b'` and `;1` in the object name refer to the fact that Uproot reads the name `Truth` as a raw bytestring and that there is only one `Truth` object in the ROOT file. It's not really anything to worry about\n",
    "\n",
    "Let's take a look at what's inside of `Truth` in the first (higher-mass) simulation file. As a reminder, Python `dict` values can be accessed by including the corresponding key in square brackets:"
   ]
  },
  {
   "cell_type": "code",
   "execution_count": 92,
   "metadata": {
    "ExecuteTime": {
     "end_time": "2021-04-08T16:53:54.943519Z",
     "start_time": "2021-04-08T16:53:54.897327Z"
    }
   },
   "outputs": [
    {
     "data": {
      "text/plain": [
       "uproot.rootio.TTree"
      ]
     },
     "execution_count": 92,
     "metadata": {},
     "output_type": "execute_result"
    }
   ],
   "source": [
    "type(truth[\"Truth\"])"
   ]
  },
  {
   "cell_type": "markdown",
   "metadata": {},
   "source": [
    "We see that the ROOT file contains one subdirectory `Truth`, which contains what is known as a `TTree`. TTrees are actually ROOT objects, which contain the physics data. In Uproot, TTrees again act as dictionaries. The physics information is stored in yet another layer, called a `TBranch`, which can be seen as the keys of the TTree:"
   ]
  },
  {
   "cell_type": "code",
   "execution_count": 93,
   "metadata": {
    "ExecuteTime": {
     "end_time": "2021-04-08T16:53:55.472758Z",
     "start_time": "2021-04-08T16:53:55.435234Z"
    }
   },
   "outputs": [
    {
     "name": "stdout",
     "output_type": "stream",
     "text": [
      "[b'eventID', b'n_hits', b'hit_detID', b'hit_elmID', b'hit_driftdis', b'hit_pos', b'hit_detZ', b'hit_edep', b'hit_truthx', b'hit_truthy', b'hit_truthz', b'hit_truthpos', b'n_showers', b'sx_ecal', b'sy_ecal', b'sz_ecal', b'sedep_ecal', b'n_primaries', b'gtrkid', b'gpid', b'gvx', b'gvy', b'gvz', b'gpx', b'gpy', b'gpz', b'gpt', b'geta', b'gphi', b'ge', b'nhits_ecal', b'gx_ecal', b'gy_ecal', b'gz_ecal', b'gpx_ecal', b'gpy_ecal', b'gpz_ecal', b'gedep_ecal', b'gx_st1', b'gy_st1', b'gz_st1', b'gpx_st1', b'gpy_st1', b'gpz_st1', b'gx_st2', b'gy_st2', b'gz_st2', b'gpx_st2', b'gpy_st2', b'gpz_st2', b'gx_st3', b'gy_st3', b'gz_st3', b'gpx_st3', b'gpy_st3', b'gpz_st3', b'gx_h1', b'gy_h1', b'gz_h1', b'gpx_h1', b'gpy_h1', b'gpz_h1', b'gx_h2', b'gy_h2', b'gz_h2', b'gpx_h2', b'gpy_h2', b'gpz_h2', b'gx_p1', b'gy_p1', b'gz_p1', b'gpx_p1', b'gpy_p1', b'gpz_p1', b'gx_h4', b'gy_h4', b'gz_h4', b'gpx_h4', b'gpy_h4', b'gpz_h4', b'gx_h4y2l', b'gy_h4y2l', b'gz_h4y2l', b'gpx_h4y2l', b'gpy_h4y2l', b'gpz_h4y2l', b'gx_h4y2r', b'gy_h4y2r', b'gz_h4y2r', b'gpx_h4y2r', b'gpy_h4y2r', b'gpz_h4y2r', b'gx_dp1', b'gy_dp1', b'gz_dp1', b'gpx_dp1', b'gpy_dp1', b'gpz_dp1', b'gx_dp2', b'gy_dp2', b'gz_dp2', b'gpx_dp2', b'gpy_dp2', b'gpz_dp2']\n"
     ]
    }
   ],
   "source": [
    "print(truth[\"Truth\"].keys())"
   ]
  },
  {
   "cell_type": "markdown",
   "metadata": {},
   "source": [
    "We can immediately see that there is useful information like the event ID, hit positions, momenta, energy deposits in the ECAL, and other variables.\n",
    "\n",
    "It is much easier to visualize this data using `pandas`, which will display all of the information contained in the TTree in a simple table. In addition, since we know that these simulations only contain one TTree (`Truth`), we can open the TTree directly on calling `uproot.open()`, which makes the analysis code neater and simpler later down the line:"
   ]
  },
  {
   "cell_type": "code",
   "execution_count": 94,
   "metadata": {
    "ExecuteTime": {
     "end_time": "2021-04-08T16:53:57.987691Z",
     "start_time": "2021-04-08T16:53:55.934022Z"
    }
   },
   "outputs": [],
   "source": [
    "# just include the name of the key you want (\"Truth\")\n",
    "truth = uproot.open(sim1)[\"Truth\"]\n",
    "\n",
    "# convert to a pandas dataframe for visualization\n",
    "# don't flatten (flattening destroys per-event information)\n",
    "df = truth1.pandas.df(flatten=False)"
   ]
  },
  {
   "cell_type": "markdown",
   "metadata": {},
   "source": [
    "Now we can look at all the information contained in a the TTree much more easily"
   ]
  },
  {
   "cell_type": "code",
   "execution_count": 95,
   "metadata": {
    "ExecuteTime": {
     "end_time": "2021-04-08T16:53:58.340224Z",
     "start_time": "2021-04-08T16:53:58.202693Z"
    }
   },
   "outputs": [
    {
     "data": {
      "text/html": [
       "<div>\n",
       "<style scoped>\n",
       "    .dataframe tbody tr th:only-of-type {\n",
       "        vertical-align: middle;\n",
       "    }\n",
       "\n",
       "    .dataframe tbody tr th {\n",
       "        vertical-align: top;\n",
       "    }\n",
       "\n",
       "    .dataframe thead th {\n",
       "        text-align: right;\n",
       "    }\n",
       "</style>\n",
       "<table border=\"1\" class=\"dataframe\">\n",
       "  <thead>\n",
       "    <tr style=\"text-align: right;\">\n",
       "      <th></th>\n",
       "      <th>eventID</th>\n",
       "      <th>n_hits</th>\n",
       "      <th>hit_detID</th>\n",
       "      <th>hit_elmID</th>\n",
       "      <th>hit_driftdis</th>\n",
       "      <th>hit_pos</th>\n",
       "      <th>hit_detZ</th>\n",
       "      <th>hit_edep</th>\n",
       "      <th>hit_truthx</th>\n",
       "      <th>hit_truthy</th>\n",
       "      <th>...</th>\n",
       "      <th>gz_dp1</th>\n",
       "      <th>gpx_dp1</th>\n",
       "      <th>gpy_dp1</th>\n",
       "      <th>gpz_dp1</th>\n",
       "      <th>gx_dp2</th>\n",
       "      <th>gy_dp2</th>\n",
       "      <th>gz_dp2</th>\n",
       "      <th>gpx_dp2</th>\n",
       "      <th>gpy_dp2</th>\n",
       "      <th>gpz_dp2</th>\n",
       "    </tr>\n",
       "    <tr>\n",
       "      <th>entry</th>\n",
       "      <th></th>\n",
       "      <th></th>\n",
       "      <th></th>\n",
       "      <th></th>\n",
       "      <th></th>\n",
       "      <th></th>\n",
       "      <th></th>\n",
       "      <th></th>\n",
       "      <th></th>\n",
       "      <th></th>\n",
       "      <th></th>\n",
       "      <th></th>\n",
       "      <th></th>\n",
       "      <th></th>\n",
       "      <th></th>\n",
       "      <th></th>\n",
       "      <th></th>\n",
       "      <th></th>\n",
       "      <th></th>\n",
       "      <th></th>\n",
       "      <th></th>\n",
       "    </tr>\n",
       "  </thead>\n",
       "  <tbody>\n",
       "    <tr>\n",
       "      <th>0</th>\n",
       "      <td>0</td>\n",
       "      <td>50</td>\n",
       "      <td>[1, 1, 2, 2, 5, 5, 6, 6, 3, 3, 4, 4, 17, 17, 1...</td>\n",
       "      <td>[95, 96, 95, 96, 94, 97, 94, 98, 73, 76, 74, 7...</td>\n",
       "      <td>[-0.10572851, -0.20398095, 0.15892136, 0.08459...</td>\n",
       "      <td>[-3.8259366, -3.1909366, -4.100358, -3.4653583...</td>\n",
       "      <td>[594.58215, 594.58215, 595.21814, 595.21814, 6...</td>\n",
       "      <td>[3.4028235e+38, 3.4028235e+38, 3.4028235e+38, ...</td>\n",
       "      <td>[-4.7375755, -4.192838, -4.7477245, -4.178704,...</td>\n",
       "      <td>[2.8296027, 2.8571355, 2.8302917, 2.8590384, 2...</td>\n",
       "      <td>...</td>\n",
       "      <td>[3.4028235e+38, 3.4028235e+38]</td>\n",
       "      <td>[3.4028235e+38, 3.4028235e+38]</td>\n",
       "      <td>[3.4028235e+38, 3.4028235e+38]</td>\n",
       "      <td>[3.4028235e+38, 3.4028235e+38]</td>\n",
       "      <td>[3.4028235e+38, 3.4028235e+38]</td>\n",
       "      <td>[3.4028235e+38, 3.4028235e+38]</td>\n",
       "      <td>[3.4028235e+38, 3.4028235e+38]</td>\n",
       "      <td>[3.4028235e+38, 3.4028235e+38]</td>\n",
       "      <td>[3.4028235e+38, 3.4028235e+38]</td>\n",
       "      <td>[3.4028235e+38, 3.4028235e+38]</td>\n",
       "    </tr>\n",
       "    <tr>\n",
       "      <th>1</th>\n",
       "      <td>1</td>\n",
       "      <td>97</td>\n",
       "      <td>[1, 1, 2, 2, 5, 5, 6, 6, 3, 3, 4, 4, 17, 17, 1...</td>\n",
       "      <td>[116, 118, 117, 118, 135, 133, 136, 134, 105, ...</td>\n",
       "      <td>[0.110264726, -0.2658793, -0.24407953, 0.02280...</td>\n",
       "      <td>[9.509064, 10.779063, 9.869642, 10.504642, 20....</td>\n",
       "      <td>[594.58215, 594.58215, 595.21814, 595.21814, 6...</td>\n",
       "      <td>[3.4028235e+38, 3.4028235e+38, 3.4028235e+38, ...</td>\n",
       "      <td>[14.484536, 14.57128, 14.500621, 14.5884075, 1...</td>\n",
       "      <td>[-18.764118, -15.345786, -18.803724, -15.35567...</td>\n",
       "      <td>...</td>\n",
       "      <td>[3.4028235e+38, 3.4028235e+38]</td>\n",
       "      <td>[3.4028235e+38, 3.4028235e+38]</td>\n",
       "      <td>[3.4028235e+38, 3.4028235e+38]</td>\n",
       "      <td>[3.4028235e+38, 3.4028235e+38]</td>\n",
       "      <td>[3.4028235e+38, 3.4028235e+38]</td>\n",
       "      <td>[3.4028235e+38, 3.4028235e+38]</td>\n",
       "      <td>[3.4028235e+38, 3.4028235e+38]</td>\n",
       "      <td>[3.4028235e+38, 3.4028235e+38]</td>\n",
       "      <td>[3.4028235e+38, 3.4028235e+38]</td>\n",
       "      <td>[3.4028235e+38, 3.4028235e+38]</td>\n",
       "    </tr>\n",
       "    <tr>\n",
       "      <th>2</th>\n",
       "      <td>2</td>\n",
       "      <td>52</td>\n",
       "      <td>[1, 1, 2, 2, 5, 5, 6, 6, 3, 3, 4, 4, 17, 17, 1...</td>\n",
       "      <td>[104, 103, 104, 103, 107, 104, 107, 105, 85, 8...</td>\n",
       "      <td>[-0.13392884, -0.08656998, 0.142582, 0.1850046...</td>\n",
       "      <td>[1.8890634, 1.2540634, 1.6146418, 0.97964185, ...</td>\n",
       "      <td>[594.58215, 594.58215, 595.21814, 595.21814, 6...</td>\n",
       "      <td>[3.4028235e+38, 3.4028235e+38, 3.4028235e+38, ...</td>\n",
       "      <td>[1.9246267, 1.1858695, 1.9276234, 1.182655, 2....</td>\n",
       "      <td>[-0.4829222, 0.06477584, -0.4863781, 0.0660305...</td>\n",
       "      <td>...</td>\n",
       "      <td>[3.4028235e+38, 3.4028235e+38]</td>\n",
       "      <td>[3.4028235e+38, 3.4028235e+38]</td>\n",
       "      <td>[3.4028235e+38, 3.4028235e+38]</td>\n",
       "      <td>[3.4028235e+38, 3.4028235e+38]</td>\n",
       "      <td>[3.4028235e+38, 3.4028235e+38]</td>\n",
       "      <td>[3.4028235e+38, 3.4028235e+38]</td>\n",
       "      <td>[3.4028235e+38, 3.4028235e+38]</td>\n",
       "      <td>[3.4028235e+38, 3.4028235e+38]</td>\n",
       "      <td>[3.4028235e+38, 3.4028235e+38]</td>\n",
       "      <td>[3.4028235e+38, 3.4028235e+38]</td>\n",
       "    </tr>\n",
       "    <tr>\n",
       "      <th>3</th>\n",
       "      <td>3</td>\n",
       "      <td>54</td>\n",
       "      <td>[1, 1, 2, 2, 5, 5, 6, 6, 3, 3, 4, 4, 17, 17, 1...</td>\n",
       "      <td>[79, 78, 79, 78, 69, 71, 69, 71, 53, 53, 54, 5...</td>\n",
       "      <td>[0.038194224, -0.09215199, 0.3004502, 0.162315...</td>\n",
       "      <td>[-13.985937, -14.620936, -14.260358, -14.89535...</td>\n",
       "      <td>[594.58215, 594.58215, 595.21814, 595.21814, 6...</td>\n",
       "      <td>[3.4028235e+38, 3.4028235e+38, 3.4028235e+38, ...</td>\n",
       "      <td>[-17.329445, -17.409082, -17.34924, -17.429474...</td>\n",
       "      <td>[12.1819935, 9.287857, 12.212207, 9.2881155, 1...</td>\n",
       "      <td>...</td>\n",
       "      <td>[3.4028235e+38, 3.4028235e+38]</td>\n",
       "      <td>[3.4028235e+38, 3.4028235e+38]</td>\n",
       "      <td>[3.4028235e+38, 3.4028235e+38]</td>\n",
       "      <td>[3.4028235e+38, 3.4028235e+38]</td>\n",
       "      <td>[3.4028235e+38, 3.4028235e+38]</td>\n",
       "      <td>[3.4028235e+38, 3.4028235e+38]</td>\n",
       "      <td>[3.4028235e+38, 3.4028235e+38]</td>\n",
       "      <td>[3.4028235e+38, 3.4028235e+38]</td>\n",
       "      <td>[3.4028235e+38, 3.4028235e+38]</td>\n",
       "      <td>[3.4028235e+38, 3.4028235e+38]</td>\n",
       "    </tr>\n",
       "    <tr>\n",
       "      <th>4</th>\n",
       "      <td>4</td>\n",
       "      <td>55</td>\n",
       "      <td>[1, 1, 2, 2, 5, 5, 6, 6, 3, 3, 4, 4, 17, 17, 1...</td>\n",
       "      <td>[111, 109, 111, 110, 106, 105, 106, 106, 88, 8...</td>\n",
       "      <td>[-0.016116062, 0.3064441, 0.27017146, -0.05213...</td>\n",
       "      <td>[6.3340635, 5.0640635, 6.059642, 5.4246416, 1....</td>\n",
       "      <td>[594.58215, 594.58215, 595.21814, 595.21814, 6...</td>\n",
       "      <td>[3.4028235e+38, 3.4028235e+38, 3.4028235e+38, ...</td>\n",
       "      <td>[4.0342283, 3.4917006, 4.041884, 3.4937236, 4....</td>\n",
       "      <td>[10.115284, 8.340303, 10.134008, 8.340441, 11....</td>\n",
       "      <td>...</td>\n",
       "      <td>[3.4028235e+38, 3.4028235e+38]</td>\n",
       "      <td>[3.4028235e+38, 3.4028235e+38]</td>\n",
       "      <td>[3.4028235e+38, 3.4028235e+38]</td>\n",
       "      <td>[3.4028235e+38, 3.4028235e+38]</td>\n",
       "      <td>[3.4028235e+38, 3.4028235e+38]</td>\n",
       "      <td>[3.4028235e+38, 3.4028235e+38]</td>\n",
       "      <td>[3.4028235e+38, 3.4028235e+38]</td>\n",
       "      <td>[3.4028235e+38, 3.4028235e+38]</td>\n",
       "      <td>[3.4028235e+38, 3.4028235e+38]</td>\n",
       "      <td>[3.4028235e+38, 3.4028235e+38]</td>\n",
       "    </tr>\n",
       "    <tr>\n",
       "      <th>...</th>\n",
       "      <td>...</td>\n",
       "      <td>...</td>\n",
       "      <td>...</td>\n",
       "      <td>...</td>\n",
       "      <td>...</td>\n",
       "      <td>...</td>\n",
       "      <td>...</td>\n",
       "      <td>...</td>\n",
       "      <td>...</td>\n",
       "      <td>...</td>\n",
       "      <td>...</td>\n",
       "      <td>...</td>\n",
       "      <td>...</td>\n",
       "      <td>...</td>\n",
       "      <td>...</td>\n",
       "      <td>...</td>\n",
       "      <td>...</td>\n",
       "      <td>...</td>\n",
       "      <td>...</td>\n",
       "      <td>...</td>\n",
       "      <td>...</td>\n",
       "    </tr>\n",
       "    <tr>\n",
       "      <th>9995</th>\n",
       "      <td>9995</td>\n",
       "      <td>64</td>\n",
       "      <td>[1, 1, 2, 2, 5, 5, 6, 6, 3, 3, 4, 4, 17, 18, 1...</td>\n",
       "      <td>[104, 104, 104, 105, 107, 107, 108, 108, 85, 8...</td>\n",
       "      <td>[-0.05595854, 0.11412679, 0.21578047, -0.24111...</td>\n",
       "      <td>[1.8890634, 1.8890634, 1.6146418, 2.249642, 2....</td>\n",
       "      <td>[594.58215, 594.58215, 595.21814, 595.21814, 6...</td>\n",
       "      <td>[3.4028235e+38, 3.4028235e+38, 3.4028235e+38, ...</td>\n",
       "      <td>[2.2043478, 2.2869985, 2.2047782, 2.291329, 2....</td>\n",
       "      <td>[-1.3004049, -0.9207799, -1.313388, -0.9160331...</td>\n",
       "      <td>...</td>\n",
       "      <td>[3.4028235e+38, 3.4028235e+38]</td>\n",
       "      <td>[3.4028235e+38, 3.4028235e+38]</td>\n",
       "      <td>[3.4028235e+38, 3.4028235e+38]</td>\n",
       "      <td>[3.4028235e+38, 3.4028235e+38]</td>\n",
       "      <td>[3.4028235e+38, 3.4028235e+38]</td>\n",
       "      <td>[3.4028235e+38, 3.4028235e+38]</td>\n",
       "      <td>[3.4028235e+38, 3.4028235e+38]</td>\n",
       "      <td>[3.4028235e+38, 3.4028235e+38]</td>\n",
       "      <td>[3.4028235e+38, 3.4028235e+38]</td>\n",
       "      <td>[3.4028235e+38, 3.4028235e+38]</td>\n",
       "    </tr>\n",
       "    <tr>\n",
       "      <th>9996</th>\n",
       "      <td>9996</td>\n",
       "      <td>56</td>\n",
       "      <td>[1, 1, 2, 2, 5, 5, 6, 6, 3, 3, 4, 4, 17, 17, 1...</td>\n",
       "      <td>[92, 92, 92, 93, 91, 88, 92, 89, 71, 70, 71, 7...</td>\n",
       "      <td>[-0.0035211777, 0.088553846, 0.26340106, -0.27...</td>\n",
       "      <td>[-5.7309365, -5.7309365, -6.005358, -5.370358,...</td>\n",
       "      <td>[594.58215, 594.58215, 595.21814, 595.21814, 6...</td>\n",
       "      <td>[3.4028235e+38, 3.4028235e+38, 3.4028235e+38, ...</td>\n",
       "      <td>[-6.638035, -7.164034, -6.6443477, -7.174278, ...</td>\n",
       "      <td>[3.0132542, 5.555393, 3.0077252, 5.5699553, 2....</td>\n",
       "      <td>...</td>\n",
       "      <td>[3.4028235e+38, 3.4028235e+38]</td>\n",
       "      <td>[3.4028235e+38, 3.4028235e+38]</td>\n",
       "      <td>[3.4028235e+38, 3.4028235e+38]</td>\n",
       "      <td>[3.4028235e+38, 3.4028235e+38]</td>\n",
       "      <td>[3.4028235e+38, 3.4028235e+38]</td>\n",
       "      <td>[3.4028235e+38, 3.4028235e+38]</td>\n",
       "      <td>[3.4028235e+38, 3.4028235e+38]</td>\n",
       "      <td>[3.4028235e+38, 3.4028235e+38]</td>\n",
       "      <td>[3.4028235e+38, 3.4028235e+38]</td>\n",
       "      <td>[3.4028235e+38, 3.4028235e+38]</td>\n",
       "    </tr>\n",
       "    <tr>\n",
       "      <th>9997</th>\n",
       "      <td>9997</td>\n",
       "      <td>37</td>\n",
       "      <td>[1, 1, 2, 2, 5, 5, 6, 6, 3, 3, 4, 4, 17, 18, 1...</td>\n",
       "      <td>[61, 56, 61, 56, 37, 45, 37, 45, 28, 28, 29, 2...</td>\n",
       "      <td>[-0.058447793, -0.03204205, 0.20503716, 0.2073...</td>\n",
       "      <td>[-25.415937, -28.590937, -25.69036, -28.865358...</td>\n",
       "      <td>[594.58215, 594.58215, 595.21814, 595.21814, 6...</td>\n",
       "      <td>[3.4028235e+38, 3.4028235e+38, 3.4028235e+38, ...</td>\n",
       "      <td>[-32.2318, -32.325813, -32.270588, -32.363106,...</td>\n",
       "      <td>[24.627369, 11.77664, 24.740541, 11.783644, 32...</td>\n",
       "      <td>...</td>\n",
       "      <td>[3.4028235e+38, 3.4028235e+38]</td>\n",
       "      <td>[3.4028235e+38, 3.4028235e+38]</td>\n",
       "      <td>[3.4028235e+38, 3.4028235e+38]</td>\n",
       "      <td>[3.4028235e+38, 3.4028235e+38]</td>\n",
       "      <td>[3.4028235e+38, 3.4028235e+38]</td>\n",
       "      <td>[3.4028235e+38, 3.4028235e+38]</td>\n",
       "      <td>[3.4028235e+38, 3.4028235e+38]</td>\n",
       "      <td>[3.4028235e+38, 3.4028235e+38]</td>\n",
       "      <td>[3.4028235e+38, 3.4028235e+38]</td>\n",
       "      <td>[3.4028235e+38, 3.4028235e+38]</td>\n",
       "    </tr>\n",
       "    <tr>\n",
       "      <th>9998</th>\n",
       "      <td>9998</td>\n",
       "      <td>54</td>\n",
       "      <td>[1, 1, 2, 2, 5, 5, 6, 6, 3, 3, 4, 4, 17, 17, 1...</td>\n",
       "      <td>[96, 95, 96, 95, 91, 83, 91, 84, 73, 68, 73, 6...</td>\n",
       "      <td>[-0.07681018, -0.19441383, 0.20159705, 0.02793...</td>\n",
       "      <td>[-3.1909366, -3.8259366, -3.4653583, -4.100358...</td>\n",
       "      <td>[594.58215, 594.58215, 595.21814, 595.21814, 6...</td>\n",
       "      <td>[3.4028235e+38, 3.4028235e+38, 3.4028235e+38, ...</td>\n",
       "      <td>[-5.724095, -6.5060143, -5.7220716, -6.561468,...</td>\n",
       "      <td>[9.66582, 9.705857, 9.674332, 9.717337, 10.279...</td>\n",
       "      <td>...</td>\n",
       "      <td>[3.4028235e+38, 3.4028235e+38]</td>\n",
       "      <td>[3.4028235e+38, 3.4028235e+38]</td>\n",
       "      <td>[3.4028235e+38, 3.4028235e+38]</td>\n",
       "      <td>[3.4028235e+38, 3.4028235e+38]</td>\n",
       "      <td>[3.4028235e+38, 3.4028235e+38]</td>\n",
       "      <td>[3.4028235e+38, 3.4028235e+38]</td>\n",
       "      <td>[3.4028235e+38, 3.4028235e+38]</td>\n",
       "      <td>[3.4028235e+38, 3.4028235e+38]</td>\n",
       "      <td>[3.4028235e+38, 3.4028235e+38]</td>\n",
       "      <td>[3.4028235e+38, 3.4028235e+38]</td>\n",
       "    </tr>\n",
       "    <tr>\n",
       "      <th>9999</th>\n",
       "      <td>9999</td>\n",
       "      <td>65</td>\n",
       "      <td>[1, 1, 2, 2, 5, 5, 6, 6, 3, 3, 4, 4, 17, 17, 1...</td>\n",
       "      <td>[131, 130, 132, 130, 138, 131, 138, 132, 115, ...</td>\n",
       "      <td>[0.1682061, -0.16187647, -0.16910788, 0.121935...</td>\n",
       "      <td>[19.034063, 18.399063, 19.394642, 18.124641, 2...</td>\n",
       "      <td>[594.58215, 594.58215, 595.21814, 595.21814, 6...</td>\n",
       "      <td>[3.4028235e+38, 3.4028235e+38, 3.4028235e+38, ...</td>\n",
       "      <td>[20.183422, 18.61562, 20.209492, 18.619339, 22...</td>\n",
       "      <td>[-1.6857197, 0.6514303, -1.6950216, 0.67580354...</td>\n",
       "      <td>...</td>\n",
       "      <td>[3.4028235e+38, 3.4028235e+38]</td>\n",
       "      <td>[3.4028235e+38, 3.4028235e+38]</td>\n",
       "      <td>[3.4028235e+38, 3.4028235e+38]</td>\n",
       "      <td>[3.4028235e+38, 3.4028235e+38]</td>\n",
       "      <td>[3.4028235e+38, 3.4028235e+38]</td>\n",
       "      <td>[3.4028235e+38, 3.4028235e+38]</td>\n",
       "      <td>[3.4028235e+38, 3.4028235e+38]</td>\n",
       "      <td>[3.4028235e+38, 3.4028235e+38]</td>\n",
       "      <td>[3.4028235e+38, 3.4028235e+38]</td>\n",
       "      <td>[3.4028235e+38, 3.4028235e+38]</td>\n",
       "    </tr>\n",
       "  </tbody>\n",
       "</table>\n",
       "<p>10000 rows × 104 columns</p>\n",
       "</div>"
      ],
      "text/plain": [
       "       eventID  n_hits                                          hit_detID  \\\n",
       "entry                                                                       \n",
       "0            0      50  [1, 1, 2, 2, 5, 5, 6, 6, 3, 3, 4, 4, 17, 17, 1...   \n",
       "1            1      97  [1, 1, 2, 2, 5, 5, 6, 6, 3, 3, 4, 4, 17, 17, 1...   \n",
       "2            2      52  [1, 1, 2, 2, 5, 5, 6, 6, 3, 3, 4, 4, 17, 17, 1...   \n",
       "3            3      54  [1, 1, 2, 2, 5, 5, 6, 6, 3, 3, 4, 4, 17, 17, 1...   \n",
       "4            4      55  [1, 1, 2, 2, 5, 5, 6, 6, 3, 3, 4, 4, 17, 17, 1...   \n",
       "...        ...     ...                                                ...   \n",
       "9995      9995      64  [1, 1, 2, 2, 5, 5, 6, 6, 3, 3, 4, 4, 17, 18, 1...   \n",
       "9996      9996      56  [1, 1, 2, 2, 5, 5, 6, 6, 3, 3, 4, 4, 17, 17, 1...   \n",
       "9997      9997      37  [1, 1, 2, 2, 5, 5, 6, 6, 3, 3, 4, 4, 17, 18, 1...   \n",
       "9998      9998      54  [1, 1, 2, 2, 5, 5, 6, 6, 3, 3, 4, 4, 17, 17, 1...   \n",
       "9999      9999      65  [1, 1, 2, 2, 5, 5, 6, 6, 3, 3, 4, 4, 17, 17, 1...   \n",
       "\n",
       "                                               hit_elmID  \\\n",
       "entry                                                      \n",
       "0      [95, 96, 95, 96, 94, 97, 94, 98, 73, 76, 74, 7...   \n",
       "1      [116, 118, 117, 118, 135, 133, 136, 134, 105, ...   \n",
       "2      [104, 103, 104, 103, 107, 104, 107, 105, 85, 8...   \n",
       "3      [79, 78, 79, 78, 69, 71, 69, 71, 53, 53, 54, 5...   \n",
       "4      [111, 109, 111, 110, 106, 105, 106, 106, 88, 8...   \n",
       "...                                                  ...   \n",
       "9995   [104, 104, 104, 105, 107, 107, 108, 108, 85, 8...   \n",
       "9996   [92, 92, 92, 93, 91, 88, 92, 89, 71, 70, 71, 7...   \n",
       "9997   [61, 56, 61, 56, 37, 45, 37, 45, 28, 28, 29, 2...   \n",
       "9998   [96, 95, 96, 95, 91, 83, 91, 84, 73, 68, 73, 6...   \n",
       "9999   [131, 130, 132, 130, 138, 131, 138, 132, 115, ...   \n",
       "\n",
       "                                            hit_driftdis  \\\n",
       "entry                                                      \n",
       "0      [-0.10572851, -0.20398095, 0.15892136, 0.08459...   \n",
       "1      [0.110264726, -0.2658793, -0.24407953, 0.02280...   \n",
       "2      [-0.13392884, -0.08656998, 0.142582, 0.1850046...   \n",
       "3      [0.038194224, -0.09215199, 0.3004502, 0.162315...   \n",
       "4      [-0.016116062, 0.3064441, 0.27017146, -0.05213...   \n",
       "...                                                  ...   \n",
       "9995   [-0.05595854, 0.11412679, 0.21578047, -0.24111...   \n",
       "9996   [-0.0035211777, 0.088553846, 0.26340106, -0.27...   \n",
       "9997   [-0.058447793, -0.03204205, 0.20503716, 0.2073...   \n",
       "9998   [-0.07681018, -0.19441383, 0.20159705, 0.02793...   \n",
       "9999   [0.1682061, -0.16187647, -0.16910788, 0.121935...   \n",
       "\n",
       "                                                 hit_pos  \\\n",
       "entry                                                      \n",
       "0      [-3.8259366, -3.1909366, -4.100358, -3.4653583...   \n",
       "1      [9.509064, 10.779063, 9.869642, 10.504642, 20....   \n",
       "2      [1.8890634, 1.2540634, 1.6146418, 0.97964185, ...   \n",
       "3      [-13.985937, -14.620936, -14.260358, -14.89535...   \n",
       "4      [6.3340635, 5.0640635, 6.059642, 5.4246416, 1....   \n",
       "...                                                  ...   \n",
       "9995   [1.8890634, 1.8890634, 1.6146418, 2.249642, 2....   \n",
       "9996   [-5.7309365, -5.7309365, -6.005358, -5.370358,...   \n",
       "9997   [-25.415937, -28.590937, -25.69036, -28.865358...   \n",
       "9998   [-3.1909366, -3.8259366, -3.4653583, -4.100358...   \n",
       "9999   [19.034063, 18.399063, 19.394642, 18.124641, 2...   \n",
       "\n",
       "                                                hit_detZ  \\\n",
       "entry                                                      \n",
       "0      [594.58215, 594.58215, 595.21814, 595.21814, 6...   \n",
       "1      [594.58215, 594.58215, 595.21814, 595.21814, 6...   \n",
       "2      [594.58215, 594.58215, 595.21814, 595.21814, 6...   \n",
       "3      [594.58215, 594.58215, 595.21814, 595.21814, 6...   \n",
       "4      [594.58215, 594.58215, 595.21814, 595.21814, 6...   \n",
       "...                                                  ...   \n",
       "9995   [594.58215, 594.58215, 595.21814, 595.21814, 6...   \n",
       "9996   [594.58215, 594.58215, 595.21814, 595.21814, 6...   \n",
       "9997   [594.58215, 594.58215, 595.21814, 595.21814, 6...   \n",
       "9998   [594.58215, 594.58215, 595.21814, 595.21814, 6...   \n",
       "9999   [594.58215, 594.58215, 595.21814, 595.21814, 6...   \n",
       "\n",
       "                                                hit_edep  \\\n",
       "entry                                                      \n",
       "0      [3.4028235e+38, 3.4028235e+38, 3.4028235e+38, ...   \n",
       "1      [3.4028235e+38, 3.4028235e+38, 3.4028235e+38, ...   \n",
       "2      [3.4028235e+38, 3.4028235e+38, 3.4028235e+38, ...   \n",
       "3      [3.4028235e+38, 3.4028235e+38, 3.4028235e+38, ...   \n",
       "4      [3.4028235e+38, 3.4028235e+38, 3.4028235e+38, ...   \n",
       "...                                                  ...   \n",
       "9995   [3.4028235e+38, 3.4028235e+38, 3.4028235e+38, ...   \n",
       "9996   [3.4028235e+38, 3.4028235e+38, 3.4028235e+38, ...   \n",
       "9997   [3.4028235e+38, 3.4028235e+38, 3.4028235e+38, ...   \n",
       "9998   [3.4028235e+38, 3.4028235e+38, 3.4028235e+38, ...   \n",
       "9999   [3.4028235e+38, 3.4028235e+38, 3.4028235e+38, ...   \n",
       "\n",
       "                                              hit_truthx  \\\n",
       "entry                                                      \n",
       "0      [-4.7375755, -4.192838, -4.7477245, -4.178704,...   \n",
       "1      [14.484536, 14.57128, 14.500621, 14.5884075, 1...   \n",
       "2      [1.9246267, 1.1858695, 1.9276234, 1.182655, 2....   \n",
       "3      [-17.329445, -17.409082, -17.34924, -17.429474...   \n",
       "4      [4.0342283, 3.4917006, 4.041884, 3.4937236, 4....   \n",
       "...                                                  ...   \n",
       "9995   [2.2043478, 2.2869985, 2.2047782, 2.291329, 2....   \n",
       "9996   [-6.638035, -7.164034, -6.6443477, -7.174278, ...   \n",
       "9997   [-32.2318, -32.325813, -32.270588, -32.363106,...   \n",
       "9998   [-5.724095, -6.5060143, -5.7220716, -6.561468,...   \n",
       "9999   [20.183422, 18.61562, 20.209492, 18.619339, 22...   \n",
       "\n",
       "                                              hit_truthy  ...  \\\n",
       "entry                                                     ...   \n",
       "0      [2.8296027, 2.8571355, 2.8302917, 2.8590384, 2...  ...   \n",
       "1      [-18.764118, -15.345786, -18.803724, -15.35567...  ...   \n",
       "2      [-0.4829222, 0.06477584, -0.4863781, 0.0660305...  ...   \n",
       "3      [12.1819935, 9.287857, 12.212207, 9.2881155, 1...  ...   \n",
       "4      [10.115284, 8.340303, 10.134008, 8.340441, 11....  ...   \n",
       "...                                                  ...  ...   \n",
       "9995   [-1.3004049, -0.9207799, -1.313388, -0.9160331...  ...   \n",
       "9996   [3.0132542, 5.555393, 3.0077252, 5.5699553, 2....  ...   \n",
       "9997   [24.627369, 11.77664, 24.740541, 11.783644, 32...  ...   \n",
       "9998   [9.66582, 9.705857, 9.674332, 9.717337, 10.279...  ...   \n",
       "9999   [-1.6857197, 0.6514303, -1.6950216, 0.67580354...  ...   \n",
       "\n",
       "                               gz_dp1                         gpx_dp1  \\\n",
       "entry                                                                   \n",
       "0      [3.4028235e+38, 3.4028235e+38]  [3.4028235e+38, 3.4028235e+38]   \n",
       "1      [3.4028235e+38, 3.4028235e+38]  [3.4028235e+38, 3.4028235e+38]   \n",
       "2      [3.4028235e+38, 3.4028235e+38]  [3.4028235e+38, 3.4028235e+38]   \n",
       "3      [3.4028235e+38, 3.4028235e+38]  [3.4028235e+38, 3.4028235e+38]   \n",
       "4      [3.4028235e+38, 3.4028235e+38]  [3.4028235e+38, 3.4028235e+38]   \n",
       "...                               ...                             ...   \n",
       "9995   [3.4028235e+38, 3.4028235e+38]  [3.4028235e+38, 3.4028235e+38]   \n",
       "9996   [3.4028235e+38, 3.4028235e+38]  [3.4028235e+38, 3.4028235e+38]   \n",
       "9997   [3.4028235e+38, 3.4028235e+38]  [3.4028235e+38, 3.4028235e+38]   \n",
       "9998   [3.4028235e+38, 3.4028235e+38]  [3.4028235e+38, 3.4028235e+38]   \n",
       "9999   [3.4028235e+38, 3.4028235e+38]  [3.4028235e+38, 3.4028235e+38]   \n",
       "\n",
       "                              gpy_dp1                         gpz_dp1  \\\n",
       "entry                                                                   \n",
       "0      [3.4028235e+38, 3.4028235e+38]  [3.4028235e+38, 3.4028235e+38]   \n",
       "1      [3.4028235e+38, 3.4028235e+38]  [3.4028235e+38, 3.4028235e+38]   \n",
       "2      [3.4028235e+38, 3.4028235e+38]  [3.4028235e+38, 3.4028235e+38]   \n",
       "3      [3.4028235e+38, 3.4028235e+38]  [3.4028235e+38, 3.4028235e+38]   \n",
       "4      [3.4028235e+38, 3.4028235e+38]  [3.4028235e+38, 3.4028235e+38]   \n",
       "...                               ...                             ...   \n",
       "9995   [3.4028235e+38, 3.4028235e+38]  [3.4028235e+38, 3.4028235e+38]   \n",
       "9996   [3.4028235e+38, 3.4028235e+38]  [3.4028235e+38, 3.4028235e+38]   \n",
       "9997   [3.4028235e+38, 3.4028235e+38]  [3.4028235e+38, 3.4028235e+38]   \n",
       "9998   [3.4028235e+38, 3.4028235e+38]  [3.4028235e+38, 3.4028235e+38]   \n",
       "9999   [3.4028235e+38, 3.4028235e+38]  [3.4028235e+38, 3.4028235e+38]   \n",
       "\n",
       "                               gx_dp2                          gy_dp2  \\\n",
       "entry                                                                   \n",
       "0      [3.4028235e+38, 3.4028235e+38]  [3.4028235e+38, 3.4028235e+38]   \n",
       "1      [3.4028235e+38, 3.4028235e+38]  [3.4028235e+38, 3.4028235e+38]   \n",
       "2      [3.4028235e+38, 3.4028235e+38]  [3.4028235e+38, 3.4028235e+38]   \n",
       "3      [3.4028235e+38, 3.4028235e+38]  [3.4028235e+38, 3.4028235e+38]   \n",
       "4      [3.4028235e+38, 3.4028235e+38]  [3.4028235e+38, 3.4028235e+38]   \n",
       "...                               ...                             ...   \n",
       "9995   [3.4028235e+38, 3.4028235e+38]  [3.4028235e+38, 3.4028235e+38]   \n",
       "9996   [3.4028235e+38, 3.4028235e+38]  [3.4028235e+38, 3.4028235e+38]   \n",
       "9997   [3.4028235e+38, 3.4028235e+38]  [3.4028235e+38, 3.4028235e+38]   \n",
       "9998   [3.4028235e+38, 3.4028235e+38]  [3.4028235e+38, 3.4028235e+38]   \n",
       "9999   [3.4028235e+38, 3.4028235e+38]  [3.4028235e+38, 3.4028235e+38]   \n",
       "\n",
       "                               gz_dp2                         gpx_dp2  \\\n",
       "entry                                                                   \n",
       "0      [3.4028235e+38, 3.4028235e+38]  [3.4028235e+38, 3.4028235e+38]   \n",
       "1      [3.4028235e+38, 3.4028235e+38]  [3.4028235e+38, 3.4028235e+38]   \n",
       "2      [3.4028235e+38, 3.4028235e+38]  [3.4028235e+38, 3.4028235e+38]   \n",
       "3      [3.4028235e+38, 3.4028235e+38]  [3.4028235e+38, 3.4028235e+38]   \n",
       "4      [3.4028235e+38, 3.4028235e+38]  [3.4028235e+38, 3.4028235e+38]   \n",
       "...                               ...                             ...   \n",
       "9995   [3.4028235e+38, 3.4028235e+38]  [3.4028235e+38, 3.4028235e+38]   \n",
       "9996   [3.4028235e+38, 3.4028235e+38]  [3.4028235e+38, 3.4028235e+38]   \n",
       "9997   [3.4028235e+38, 3.4028235e+38]  [3.4028235e+38, 3.4028235e+38]   \n",
       "9998   [3.4028235e+38, 3.4028235e+38]  [3.4028235e+38, 3.4028235e+38]   \n",
       "9999   [3.4028235e+38, 3.4028235e+38]  [3.4028235e+38, 3.4028235e+38]   \n",
       "\n",
       "                              gpy_dp2                         gpz_dp2  \n",
       "entry                                                                  \n",
       "0      [3.4028235e+38, 3.4028235e+38]  [3.4028235e+38, 3.4028235e+38]  \n",
       "1      [3.4028235e+38, 3.4028235e+38]  [3.4028235e+38, 3.4028235e+38]  \n",
       "2      [3.4028235e+38, 3.4028235e+38]  [3.4028235e+38, 3.4028235e+38]  \n",
       "3      [3.4028235e+38, 3.4028235e+38]  [3.4028235e+38, 3.4028235e+38]  \n",
       "4      [3.4028235e+38, 3.4028235e+38]  [3.4028235e+38, 3.4028235e+38]  \n",
       "...                               ...                             ...  \n",
       "9995   [3.4028235e+38, 3.4028235e+38]  [3.4028235e+38, 3.4028235e+38]  \n",
       "9996   [3.4028235e+38, 3.4028235e+38]  [3.4028235e+38, 3.4028235e+38]  \n",
       "9997   [3.4028235e+38, 3.4028235e+38]  [3.4028235e+38, 3.4028235e+38]  \n",
       "9998   [3.4028235e+38, 3.4028235e+38]  [3.4028235e+38, 3.4028235e+38]  \n",
       "9999   [3.4028235e+38, 3.4028235e+38]  [3.4028235e+38, 3.4028235e+38]  \n",
       "\n",
       "[10000 rows x 104 columns]"
      ]
     },
     "execution_count": 95,
     "metadata": {},
     "output_type": "execute_result"
    }
   ],
   "source": [
    "df"
   ]
  },
  {
   "cell_type": "markdown",
   "metadata": {},
   "source": [
    "From this dataframe we see that this file contains information from 10,000 simulated events, with each event containing 104 different variables.\n",
    "\n",
    "Looking at the first event (`eventID == 0`), we see that 50 hits (`n_hits == 50`) were detected in detectors all throughout the experiment. For example, the detector in which these hits were detected can be inferred from the `hit_detID` variable, and the position of the hit *in* that detector can be determined from the `hit_elmID` variable."
   ]
  },
  {
   "cell_type": "markdown",
   "metadata": {},
   "source": [
    "Each of the 104 variables is a key in the TTree dict, with their values being returned as an array. In the case of the key `n_hits`, the associated value will be an array of length 10,000 - where each element is an integer corresponding to the total number of hits in that event.\n",
    "\n",
    "In order to get the value(s) associated with a key (keys) of this TTree, we need to call the `array` (`arrays`) method on the TTree object:"
   ]
  },
  {
   "cell_type": "code",
   "execution_count": 96,
   "metadata": {
    "ExecuteTime": {
     "end_time": "2021-04-08T16:53:59.599189Z",
     "start_time": "2021-04-08T16:53:59.592338Z"
    }
   },
   "outputs": [
    {
     "data": {
      "text/plain": [
       "array([50, 97, 52, ..., 37, 54, 65], dtype=int32)"
      ]
     },
     "execution_count": 96,
     "metadata": {},
     "output_type": "execute_result"
    }
   ],
   "source": [
    "# get an array containing the hit data\n",
    "hits = truth.array(\"n_hits\")\n",
    "# show the resulting array\n",
    "hits"
   ]
  },
  {
   "cell_type": "code",
   "execution_count": 97,
   "metadata": {
    "ExecuteTime": {
     "end_time": "2021-04-08T16:54:00.504559Z",
     "start_time": "2021-04-08T16:54:00.500417Z"
    }
   },
   "outputs": [
    {
     "name": "stdout",
     "output_type": "stream",
     "text": [
      "10000\n"
     ]
    }
   ],
   "source": [
    "print(len(hits))"
   ]
  },
  {
   "cell_type": "markdown",
   "metadata": {},
   "source": [
    "You could also get the data from two TBranches as well, which is returned as a `dict`:"
   ]
  },
  {
   "cell_type": "code",
   "execution_count": 98,
   "metadata": {
    "ExecuteTime": {
     "end_time": "2021-04-08T16:54:02.132448Z",
     "start_time": "2021-04-08T16:54:02.124785Z"
    }
   },
   "outputs": [
    {
     "data": {
      "text/plain": [
       "{'eventID': array([   0,    1,    2, ..., 9997, 9998, 9999], dtype=int32),\n",
       " 'n_hits': array([50, 97, 52, ..., 37, 54, 65], dtype=int32)}"
      ]
     },
     "execution_count": 98,
     "metadata": {},
     "output_type": "execute_result"
    }
   ],
   "source": [
    "# pass namedecode=\"utf-8\" to get rid of the 'b' and get the keys as strings\n",
    "event_hits = truth.arrays([\"eventID\", \"n_hits\"], namedecode=\"utf-8\")\n",
    "event_hits"
   ]
  },
  {
   "cell_type": "markdown",
   "metadata": {},
   "source": [
    "You can now work with this data with the ease of Python!"
   ]
  },
  {
   "cell_type": "code",
   "execution_count": 99,
   "metadata": {
    "ExecuteTime": {
     "end_time": "2021-04-08T16:54:03.322958Z",
     "start_time": "2021-04-08T16:54:02.983080Z"
    }
   },
   "outputs": [
    {
     "data": {
      "image/png": "[encoded data removed]",
      "text/plain": [
       "<Figure size 750x450 with 1 Axes>"
      ]
     },
     "metadata": {
      "needs_background": "light"
     },
     "output_type": "display_data"
    }
   ],
   "source": [
    "import numpy as np\n",
    "import matplotlib.pyplot as plt\n",
    "\n",
    "x = event_hits[\"n_hits\"]\n",
    "plt.figure(figsize=(5,3),dpi=150)\n",
    "plt.hist(x,bins='auto');\n",
    "plt.title(\"Number of Hits Across all Events\");\n",
    "plt.xlabel(\"Number of Hits\");\n",
    "plt.ylabel(\"Number of Events\");"
   ]
  },
  {
   "cell_type": "markdown",
   "metadata": {},
   "source": [
    "So far, we just looked at two TBranches which contain integer values (`n_hits` and `eventID`). There is another layer of complexity when you consider a branch that contains a list of values, such as `hit_detID`"
   ]
  },
  {
   "cell_type": "code",
   "execution_count": 100,
   "metadata": {
    "ExecuteTime": {
     "end_time": "2021-04-08T16:54:04.070239Z",
     "start_time": "2021-04-08T16:54:04.029688Z"
    }
   },
   "outputs": [
    {
     "data": {
      "text/plain": [
       "awkward.array.jagged.JaggedArray"
      ]
     },
     "execution_count": 100,
     "metadata": {},
     "output_type": "execute_result"
    }
   ],
   "source": [
    "detID = truth.array(\"hit_detID\")\n",
    "type(detID)"
   ]
  },
  {
   "cell_type": "markdown",
   "metadata": {},
   "source": [
    "The resulting array is a `JaggedArray`, which is a data type introduce by the `Awkward` library. These arrays are \"jagged\" or \"awkward\" in that they contain sub arrays of varying sizes. This is because the number of hits in each event differs, and therefore the arrays containing hit information will differ in size:"
   ]
  },
  {
   "cell_type": "code",
   "execution_count": 101,
   "metadata": {
    "ExecuteTime": {
     "end_time": "2021-04-08T16:54:05.555491Z",
     "start_time": "2021-04-08T16:54:05.549873Z"
    }
   },
   "outputs": [
    {
     "name": "stdout",
     "output_type": "stream",
     "text": [
      "There are 50 hits in event 0\n",
      "There are 97 hits in event 1\n",
      "There are 52 hits in event 2\n",
      "There are 54 hits in event 3\n",
      "There are 55 hits in event 4\n"
     ]
    }
   ],
   "source": [
    "for i in range(5):\n",
    "    print(\"There are {} hits in event {}\".format(len(detID[i]), i))"
   ]
  },
  {
   "cell_type": "markdown",
   "metadata": {},
   "source": [
    "Since each array contains hit information from a given event, these nested arrays carry crucial information about each event and therefore must be kept intact. The `awkward` library provides some useful tools for working with jagged arrays, which will be covered in the analysis portion of the tutorial. If you are not interested in keeping information for each event intact, you can `flatten` the array, essentially collapsing all sub-arrays into one large array. This destroys any information specific to a given event, though."
   ]
  },
  {
   "cell_type": "markdown",
   "metadata": {},
   "source": [
    "**Example of event-specific plot:**"
   ]
  },
  {
   "cell_type": "code",
   "execution_count": 102,
   "metadata": {
    "ExecuteTime": {
     "end_time": "2021-04-08T16:54:07.274287Z",
     "start_time": "2021-04-08T16:54:07.095785Z"
    }
   },
   "outputs": [
    {
     "data": {
      "image/png": "[encoded data removed]",
      "text/plain": [
       "<Figure size 750x450 with 1 Axes>"
      ]
     },
     "metadata": {
      "needs_background": "light"
     },
     "output_type": "display_data"
    }
   ],
   "source": [
    "# get the hit_detID information from just the first event\n",
    "x = detID[0]\n",
    "plt.figure(figsize=(5,3),dpi=150)\n",
    "plt.hist(x,bins='auto');\n",
    "plt.title(\"detIDs in Event 0\");\n",
    "plt.xlabel(\"detID\");\n",
    "plt.ylabel(\"Quantity\");"
   ]
  },
  {
   "cell_type": "markdown",
   "metadata": {},
   "source": [
    "**detIDs across *all* 10,000 events:**"
   ]
  },
  {
   "cell_type": "code",
   "execution_count": 103,
   "metadata": {
    "ExecuteTime": {
     "end_time": "2021-04-08T16:54:09.373801Z",
     "start_time": "2021-04-08T16:54:07.887730Z"
    }
   },
   "outputs": [
    {
     "data": {
      "image/png": "[encoded data removed]",
      "text/plain": [
       "<Figure size 750x450 with 1 Axes>"
      ]
     },
     "metadata": {
      "needs_background": "light"
     },
     "output_type": "display_data"
    }
   ],
   "source": [
    "import awkward1 as ak\n",
    "\n",
    "# flatten the jagged array -> all events merged\n",
    "x = ak.flatten(detID)\n",
    "plt.figure(figsize=(5,3),dpi=150)\n",
    "plt.hist(x,bins='auto');\n",
    "plt.title(\"detIDs Across all Events\");\n",
    "plt.xlabel(\"detID\");\n",
    "plt.ylabel(\"Quantity\");"
   ]
  },
  {
   "cell_type": "markdown",
   "metadata": {},
   "source": [
    "These results are fairly meaningless, but serve to highlight the concept of jagged arrays and the structure of the TTree and its branches"
   ]
  },
  {
   "cell_type": "markdown",
   "metadata": {},
   "source": [
    "# Simple Analysis"
   ]
  },
  {
   "cell_type": "markdown",
   "metadata": {},
   "source": [
    "This analysis will demonstrate how to operate on TTrees and their branches to make plots. Namely, it will demonstrate how to speed up analysis by applying masks to the data which capture only the information of interest. By applying a mask to a `JaggedArray`, one can select data far more efficiently than by looping over each array, making analysis much faster (almost as fast as ROOT C++).\n",
    "\n",
    "Specifically, we will take a look at total hits in several of the detectors in the simulated experiment and make a cool 2D histogram of their distributions.\n",
    "\n",
    "Starting from the beginning (opening the file, reading contents):"
   ]
  },
  {
   "cell_type": "code",
   "execution_count": 106,
   "metadata": {
    "ExecuteTime": {
     "end_time": "2021-04-08T16:57:02.219285Z",
     "start_time": "2021-04-08T16:57:02.215575Z"
    }
   },
   "outputs": [],
   "source": [
    "import uproot\n",
    "import numpy as np\n",
    "import matplotlib.pyplot as plt\n",
    "import awkward1 as ak"
   ]
  },
  {
   "cell_type": "code",
   "execution_count": 105,
   "metadata": {
    "ExecuteTime": {
     "end_time": "2021-04-08T16:56:23.693493Z",
     "start_time": "2021-04-08T16:56:23.635100Z"
    }
   },
   "outputs": [],
   "source": [
    "sim = \"sim_eval_Brem_0.470915_z500_600_eps_-6.root\"\n",
    "\n",
    "truth = uproot.open(sim)[\"Truth\"]"
   ]
  },
  {
   "cell_type": "markdown",
   "metadata": {},
   "source": [
    "Let's get a dictionary which contains all of the relevant information:\n",
    "* The detector ID of the hit \n",
    "* The hit x/y position of the hit - where in the detector the hit was recorded\n",
    "* the z position of the hit - how far along the beamline the hit was detected\n",
    "\n",
    "We will use the `awkward.zip` method, which joins all the data into one handy datatype, where we can specify the variable names we want and call them later."
   ]
  },
  {
   "cell_type": "code",
   "execution_count": 180,
   "metadata": {
    "ExecuteTime": {
     "end_time": "2021-04-08T18:23:35.925926Z",
     "start_time": "2021-04-08T18:23:30.326695Z"
    }
   },
   "outputs": [],
   "source": [
    "# depth_limit=1 preserves the sub structure of the arrays\n",
    "hits = ak.zip({\"detID\": truth[\"hit_detID\"].array(),\n",
    "               \"x\": truth[\"hit_truthx\"].array(),\n",
    "               \"y\": truth[\"hit_truthy\"].array(),\n",
    "               \"z\": truth[\"hit_truthz\"].array()\n",
    "              }, depth_limit=1)"
   ]
  },
  {
   "cell_type": "markdown",
   "metadata": {},
   "source": [
    "We can now access all variables of interest directly from `hits`:"
   ]
  },
  {
   "cell_type": "code",
   "execution_count": 169,
   "metadata": {
    "ExecuteTime": {
     "end_time": "2021-04-08T18:22:36.533603Z",
     "start_time": "2021-04-08T18:22:36.527053Z"
    }
   },
   "outputs": [
    {
     "data": {
      "text/plain": [
       "<Array [[1, 1, 2, 2, 5, ... 35, 38, 49, 50]] type='10000 * var * int64'>"
      ]
     },
     "execution_count": 169,
     "metadata": {},
     "output_type": "execute_result"
    }
   ],
   "source": [
    "# an array of 10,000 arrays, one for each event\n",
    "hits.detID"
   ]
  },
  {
   "cell_type": "markdown",
   "metadata": {},
   "source": [
    "The detectors we are interested in are the hodoscopes, each belonging to a different station based on their z-position in the experiment (their distance along the beamline):\n",
    "![SpinQuest/DarkQuest Layout](SpinQuestLayout.JPG)"
   ]
  },
  {
   "cell_type": "markdown",
   "metadata": {},
   "source": [
    "The detector IDs of each of the hodoscopes are given [here:](https://github.com/cmantill/DarkQuest/blob/master/e1039-analysis/DataHits/exe/dataTuple.cxx#L75)\n",
    "```\n",
    "\t    // detector ID refers to the detector number as seen here:\n",
    "\t    // st1-drift chambers| D0: 1-6, D1: 7-12\n",
    "\t    // st2-drift chambers| D2: 13-18\n",
    "\t    // st3-drift chambers| D3p: 19-24, D3m: 25-30\n",
    "\t    // h1-hodoscope: H1B/T: 31/22 H1L/R: 33/34\n",
    "\t    // h2-hodoscope: H2L/R: 35/36 H2B/T: 37/38\n",
    "\t    // h3-hodoscope: H3B/T: 39/40\n",
    "\t    // h4-hodoscope: H4Y1L/R: 41/42 H4Y2L/R: 43/44 H4B/T: 45/46\n",
    "\t    // proto-tubes: 47-54\n",
    "\t    // dp-stations: DP1:55-58, DP2:59-6 \n",
    "```\n",
    "\n",
    "So we will look at data from all the hodoscopes, masking for z-position which will tell us which station the hit belongs to. "
   ]
  },
  {
   "cell_type": "markdown",
   "metadata": {},
   "source": [
    "**Hodoscope Mask:**\n",
    "\n",
    "The first mask will act to select for all hodoscopes by applying logical conditions to the `detID` parameter of our new `hits` array that we created earlier. The really useful thing about `awkward` and this masking technique is that if you feed the masking function an array of arrays, it will return a boolean array of the same dimensions, with the logical conditions satisfied. "
   ]
  },
  {
   "cell_type": "code",
   "execution_count": 170,
   "metadata": {
    "ExecuteTime": {
     "end_time": "2021-04-08T18:22:37.757899Z",
     "start_time": "2021-04-08T18:22:37.753463Z"
    }
   },
   "outputs": [],
   "source": [
    "def hodoMask(arr):\n",
    "    '''\n",
    "    pass an array\n",
    "    returns a mask fitted to all sub arrays\n",
    "    '''\n",
    "    # hodoscope detIDs range from 31 to 46 (see above)\n",
    "    mask = (arr.detID >= 31) & (arr.detID <= 46)\n",
    "    return mask"
   ]
  },
  {
   "cell_type": "markdown",
   "metadata": {},
   "source": [
    "Let's see the action of this masking function:"
   ]
  },
  {
   "cell_type": "code",
   "execution_count": 171,
   "metadata": {
    "ExecuteTime": {
     "end_time": "2021-04-08T18:22:38.551047Z",
     "start_time": "2021-04-08T18:22:38.540553Z"
    }
   },
   "outputs": [
    {
     "data": {
      "text/plain": [
       "<Array [[False, False, ... False, False]] type='10000 * var * bool'>"
      ]
     },
     "execution_count": 171,
     "metadata": {},
     "output_type": "execute_result"
    }
   ],
   "source": [
    "# pass the hits array to our function\n",
    "hodos = hodoMask(hits)\n",
    "hodos"
   ]
  },
  {
   "cell_type": "markdown",
   "metadata": {},
   "source": [
    "Now, look at the actual values of `hodos` compared to our `hits` master array:"
   ]
  },
  {
   "cell_type": "code",
   "execution_count": 172,
   "metadata": {
    "ExecuteTime": {
     "end_time": "2021-04-08T18:22:39.689221Z",
     "start_time": "2021-04-08T18:22:39.683098Z"
    }
   },
   "outputs": [
    {
     "name": "stdout",
     "output_type": "stream",
     "text": [
      "[False, False, False, False, False, False, ... False, False, False, False, False]\n",
      "[1, 1, 2, 2, 5, 5, 6, 6, 3, 3, 4, 4, ... 49, 50, 50, 51, 51, 52, 52, 53, 53, 54, 54]\n"
     ]
    }
   ],
   "source": [
    "# look at the hit detectorIDs of the first event:\n",
    "print(hodos[0])\n",
    "print(hits.detID[0])"
   ]
  },
  {
   "cell_type": "markdown",
   "metadata": {},
   "source": [
    "Just from this, you can see that the `hodoMask` function acted over **all** sub-arrays of the `hits` array to reveal which hits are actually in the hodoscopes. This is further illustrated below, but play around with these masks to convince yourself of this behavior."
   ]
  },
  {
   "cell_type": "code",
   "execution_count": 173,
   "metadata": {
    "ExecuteTime": {
     "end_time": "2021-04-08T18:22:41.309285Z",
     "start_time": "2021-04-08T18:22:41.297486Z"
    }
   },
   "outputs": [
    {
     "name": "stdout",
     "output_type": "stream",
     "text": [
      "14/50 of the hits in event 0 were in the hodoscopes\n",
      "\n",
      "\thit 1/14 had detID 34\n",
      "\thit 2/14 had detID 34\n",
      "\thit 3/14 had detID 32\n",
      "\thit 4/14 had detID 32\n",
      "\thit 5/14 had detID 35\n",
      "\thit 6/14 had detID 36\n",
      "\thit 7/14 had detID 38\n",
      "\thit 8/14 had detID 38\n",
      "\thit 9/14 had detID 46\n",
      "\thit 10/14 had detID 46\n",
      "\thit 11/14 had detID 41\n",
      "\thit 12/14 had detID 42\n",
      "\thit 13/14 had detID 43\n",
      "\thit 14/14 had detID 44\n"
     ]
    }
   ],
   "source": [
    "print(\"{}/{} of the hits in event 0 were in the hodoscopes\\n\".format(ak.sum(hodos[0]), len(hodos[0])))\n",
    "count = 0\n",
    "for i in range(len(hodos[0])):\n",
    "    if hodos[0][i] == True:\n",
    "        count+=1\n",
    "        print(\"\\thit {}/14 had detID {}\".format(count,hits.detID[0][i]))"
   ]
  },
  {
   "cell_type": "markdown",
   "metadata": {},
   "source": [
    "As you can see, the detIDs are all within the range we defined in the `hodoMask` function: $$31\\leq\\text{detID}\\leq46$$\n",
    "\n",
    "This example shows the power of masking - combined with `awkward`, you can select only for data you're interested in over huge numbers of subarrays. Convince yourself of this by looking at some of the other events (elements) in the `hodos` array"
   ]
  },
  {
   "cell_type": "markdown",
   "metadata": {},
   "source": [
    "In order to *apply* the mask, simply enclose the mask in closed brackets after the array to which you are applying the mask:\n",
    "```\n",
    "array[mask]\n",
    "```\n",
    "The array and mask must be of the same dimensions"
   ]
  },
  {
   "cell_type": "code",
   "execution_count": 183,
   "metadata": {
    "ExecuteTime": {
     "end_time": "2021-04-08T18:24:23.225997Z",
     "start_time": "2021-04-08T18:24:23.205339Z"
    }
   },
   "outputs": [
    {
     "name": "stdout",
     "output_type": "stream",
     "text": [
      "[34, 34, 32, 32, 35, 36, 38, 38, 46, 46, 41, 42, 43, 44]\n"
     ]
    }
   ],
   "source": [
    "masked = hits.detID[0][hodos[0]]\n",
    "print(masked)"
   ]
  },
  {
   "cell_type": "markdown",
   "metadata": {},
   "source": [
    "**Station Mask:**\n",
    "\n",
    "This mask will give us the station in which the hit was recorded based on the z-position of the hit. We will use the following as criteria:\n",
    "* station 1 : $500 < z < 1000$\n",
    "* station 2 : $1200 < z < 1600$\n",
    "* station 3 : $z > 2000$"
   ]
  },
  {
   "cell_type": "code",
   "execution_count": 156,
   "metadata": {
    "ExecuteTime": {
     "end_time": "2021-04-08T18:14:51.366610Z",
     "start_time": "2021-04-08T18:14:51.361637Z"
    }
   },
   "outputs": [],
   "source": [
    "def stationMask(arr, zmin, zmax):\n",
    "    mask = (arr.z > zmin) & (arr.z < zmax)\n",
    "    return mask"
   ]
  },
  {
   "cell_type": "markdown",
   "metadata": {},
   "source": [
    "**Combining the masks:**\n",
    "\n",
    "Now that we can select for our detectors of interest (the hodoscopes) and the station where the hit took place (station 1/2/4), we can combine them using a logical and (`&`). This will provide an array of arrays where each element is true *if and only if* both masking criteria are satisfied.\n",
    "\n",
    "So, let's say that we want to look at the hits in the station 1 hodoscopes:"
   ]
  },
  {
   "cell_type": "code",
   "execution_count": 228,
   "metadata": {
    "ExecuteTime": {
     "end_time": "2021-04-08T18:50:24.610426Z",
     "start_time": "2021-04-08T18:50:24.297945Z"
    }
   },
   "outputs": [
    {
     "data": {
      "image/png": "[encoded data removed]",
      "text/plain": [
       "<Figure size 750x750 with 2 Axes>"
      ]
     },
     "metadata": {
      "needs_background": "light"
     },
     "output_type": "display_data"
    }
   ],
   "source": [
    "# mask for hodoscopes\n",
    "hodo_mask = hodoMask(hits)\n",
    "\n",
    "# mask for station 1\n",
    "st1_mask = stationMask(hits, 500, 1000)\n",
    "\n",
    "# combine the masks\n",
    "hodo_st_mask = hodo_mask & st1_mask\n",
    "\n",
    "# apply the double mask to all our data\n",
    "result = hits[hodo_st_mask]\n",
    "\n",
    "# get the x and y hits \n",
    "x = result.x\n",
    "y = result.y\n",
    "\n",
    "# at this point, x and y are 10,000 element arrays, one element per event\n",
    "# let's flatten them and get the hits over all events\n",
    "x = ak.flatten(x)\n",
    "y = ak.flatten(y)\n",
    "\n",
    "# now convert them from awkward HighLevelArrays to numpy arrays for plotting\n",
    "x = ak.to_numpy(x)\n",
    "y = ak.to_numpy(y)\n",
    "\n",
    "# the above three steps can be simplified to just:\n",
    "x = ak.to_numpy(ak.flatten(result.x))\n",
    "y = ak.to_numpy(ak.flatten(result.y))\n",
    "\n",
    "# plot!\n",
    "plt.figure(figsize=(5,5),dpi=150);\n",
    "plt.hist2d(x,y,range=[[-50,50],[-50,50]], bins=40);\n",
    "plt.title(\"Total Hits in Station 1 Hodoscopes\");\n",
    "plt.xlabel(\"x [cm]\");\n",
    "plt.ylabel(\"y [cm]\");\n",
    "plt.colorbar();"
   ]
  },
  {
   "cell_type": "markdown",
   "metadata": {},
   "source": [
    "**Putting it all together:**\n",
    "\n",
    "Let's organize all the functions and methods into one cell so that it's easy to see how they all fit together and can be used in conjunction to select relevant data and plot it. "
   ]
  },
  {
   "cell_type": "code",
   "execution_count": 239,
   "metadata": {
    "ExecuteTime": {
     "end_time": "2021-04-08T19:16:49.137025Z",
     "start_time": "2021-04-08T19:16:43.371631Z"
    }
   },
   "outputs": [],
   "source": [
    "# file reading\n",
    "sim = \"sim_eval_Brem_0.470915_z500_600_eps_-6.root\"\n",
    "truth = uproot.open(sim)[\"Truth\"]\n",
    "\n",
    "# gather the relevant variables in a simple data structure\n",
    "hits = ak.zip({\"detID\": truth[\"hit_detID\"].array(),\n",
    "               \"x\": truth[\"hit_truthx\"].array(),\n",
    "               \"y\": truth[\"hit_truthy\"].array(),\n",
    "               \"z\": truth[\"hit_truthz\"].array()}, depth_limit=1)\n",
    "\n",
    "# hodoscope mask\n",
    "def hodoMask(arr):\n",
    "    mask = (arr.detID >= 31) & (arr.detID <= 46)\n",
    "    return mask\n",
    "\n",
    "# station mask\n",
    "def stationMask(arr, zmin, zmax):\n",
    "    mask = (arr.z > zmin) & (arr.z < zmax)\n",
    "    return mask\n",
    "\n",
    "# plotting routine\n",
    "def plotHodos(arr):\n",
    "    # get the hodoscope mask\n",
    "    hodo_mask = hodoMask(arr)\n",
    "    # get the station masks\n",
    "    st1_mask = stationMask(arr, 500, 1000)\n",
    "    st2_mask = stationMask(arr, 1200, 1600)\n",
    "    st4_mask = stationMask(arr, 2000, 10000)\n",
    "    \n",
    "    # combine the masks \n",
    "    st1_hodo_mask = hodo_mask & st1_mask\n",
    "    st2_hodo_mask = hodo_mask & st2_mask\n",
    "    st4_hodo_mask = hodo_mask & st4_mask\n",
    "    \n",
    "    # apply the masks \n",
    "    st1_hits = arr[st1_hodo_mask]\n",
    "    st2_hits = arr[st2_hodo_mask]\n",
    "    st4_hits = arr[st4_hodo_mask]\n",
    "    \n",
    "    # make a dict so we can loop over for plotting\n",
    "    stations = {\"Station 1\" : st1_hits,\n",
    "                \"Station 2\" : st2_hits,\n",
    "                \"Station 4\" : st4_hits}\n",
    "    \n",
    "    # plotting routine\n",
    "    for station in stations.keys():\n",
    "        hits = stations[station]\n",
    "        # get the x/y positions of the hits in the given station\n",
    "        x = ak.to_numpy(ak.flatten(hits.x))\n",
    "        y = ak.to_numpy(ak.flatten(hits.y))\n",
    "        \n",
    "        # plot\n",
    "        plt.clf()\n",
    "        plt.figure(figsize=(5,5),dpi=100);\n",
    "        plt.hist2d(x,y,range=[[-100,100],[-100,100]],bins=50);\n",
    "        plt.xlabel(\"x [cm]\");\n",
    "        plt.ylabel(\"y [cm]\");\n",
    "        plt.title(\"Total Hits in {}\".format(station));\n",
    "        plt.colorbar();\n",
    "        plt.show()\n",
    "        "
   ]
  },
  {
   "cell_type": "code",
   "execution_count": 240,
   "metadata": {
    "ExecuteTime": {
     "end_time": "2021-04-08T19:16:50.122555Z",
     "start_time": "2021-04-08T19:16:49.374925Z"
    },
    "scrolled": false
   },
   "outputs": [
    {
     "data": {
      "text/plain": [
       "<Figure size 432x288 with 0 Axes>"
      ]
     },
     "metadata": {},
     "output_type": "display_data"
    },
    {
     "data": {
      "image/png": "[encoded data removed]",
      "text/plain": [
       "<Figure size 500x500 with 2 Axes>"
      ]
     },
     "metadata": {
      "needs_background": "light"
     },
     "output_type": "display_data"
    },
    {
     "data": {
      "text/plain": [
       "<Figure size 432x288 with 0 Axes>"
      ]
     },
     "metadata": {},
     "output_type": "display_data"
    },
    {
     "data": {
      "image/png": "[encoded data removed]",
      "text/plain": [
       "<Figure size 500x500 with 2 Axes>"
      ]
     },
     "metadata": {
      "needs_background": "light"
     },
     "output_type": "display_data"
    },
    {
     "data": {
      "text/plain": [
       "<Figure size 432x288 with 0 Axes>"
      ]
     },
     "metadata": {},
     "output_type": "display_data"
    },
    {
     "data": {
      "image/png": "[encoded data removed]",
      "text/plain": [
       "<Figure size 500x500 with 2 Axes>"
      ]
     },
     "metadata": {
      "needs_background": "light"
     },
     "output_type": "display_data"
    }
   ],
   "source": [
    "plotHodos(hits)"
   ]
  },
  {
   "cell_type": "markdown",
   "metadata": {},
   "source": [
    "# Practice "
   ]
  },
  {
   "cell_type": "markdown",
   "metadata": {},
   "source": [
    "For practice, here are a few things you can try:\n",
    "\n",
    "* plot different variables (momenta, ECAL showers, ECAL energy deposits, etc)\n",
    "* Attempt to apply cuts on the data: apply masks that only select events with a certain criteria (i.e only accept events with hits inside a given x/y range)\n",
    "    * Try making the cut such that it only accepts hits in a circular region of the station 1 hodoscopes ($\\sqrt{x^2+y^2}\\leq r$) and then plot the result. You will know you got it right when you only see a well-defined circular hit distribution in the 2D plot"
   ]
  },
  {
   "cell_type": "markdown",
   "metadata": {},
   "source": [
    "For more examples of Jupyter notebook analyses, see [Cristina's repository](https://github.com/cmantill/DarkQuest/tree/master/e1039-analysis/python)"
   ]
  },
  {
   "cell_type": "code",
   "execution_count": null,
   "metadata": {},
   "outputs": [],
   "source": []
  }
 ],
 "metadata": {
  "kernelspec": {
   "display_name": "Python 3.8.3 64-bit ('DarkQuest': conda)",
   "language": "python",
   "name": "python38364bitdarkquestconda537b0d0bc99b4be781ce4ff6447819ad"
  },
  "language_info": {
   "codemirror_mode": {
    "name": "ipython",
    "version": 3
   },
   "file_extension": ".py",
   "mimetype": "text/x-python",
   "name": "python",
   "nbconvert_exporter": "python",
   "pygments_lexer": "ipython3",
   "version": "3.8.3"
  },
  "toc": {
   "base_numbering": 1,
   "nav_menu": {},
   "number_sections": true,
   "sideBar": true,
   "skip_h1_title": false,
   "title_cell": "Table of Contents",
   "title_sidebar": "Contents",
   "toc_cell": false,
   "toc_position": {},
   "toc_section_display": true,
   "toc_window_display": false
  },
  "varInspector": {
   "cols": {
    "lenName": 16,
    "lenType": 16,
    "lenVar": 40
   },
   "kernels_config": {
    "python": {
     "delete_cmd_postfix": "",
     "delete_cmd_prefix": "del ",
     "library": "var_list.py",
     "varRefreshCmd": "print(var_dic_list())"
    },
    "r": {
     "delete_cmd_postfix": ") ",
     "delete_cmd_prefix": "rm(",
     "library": "var_list.r",
     "varRefreshCmd": "cat(var_dic_list()) "
    }
   },
   "types_to_exclude": [
    "module",
    "function",
    "builtin_function_or_method",
    "instance",
    "_Feature"
   ],
   "window_display": false
  }
 },
 "nbformat": 4,
 "nbformat_minor": 4
}
